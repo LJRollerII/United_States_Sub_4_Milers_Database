{
 "cells": [
  {
   "cell_type": "code",
   "execution_count": null,
   "id": "14c8f51c",
   "metadata": {},
   "outputs": [],
   "source": [
    "import pandas as pd\n",
    "import numpy as np\n",
    "import matplotlib.pyplot as plt\n",
    "import seaborn as sns"
   ]
  },
  {
   "cell_type": "code",
   "execution_count": null,
   "id": "5b350b31",
   "metadata": {},
   "outputs": [],
   "source": [
    "%matplotlib inline"
   ]
  },
  {
   "cell_type": "code",
   "execution_count": null,
   "id": "43655223",
   "metadata": {},
   "outputs": [],
   "source": [
    "import re"
   ]
  },
  {
   "cell_type": "code",
   "execution_count": null,
   "id": "081be666",
   "metadata": {},
   "outputs": [],
   "source": [
    "sub_4 = pd.read_csv(\"../data/US_Sub4_Milers_Database.csv\")"
   ]
  },
  {
   "cell_type": "code",
   "execution_count": null,
   "id": "3bb4ae58",
   "metadata": {},
   "outputs": [],
   "source": [
    "sub_4.head()"
   ]
  },
  {
   "cell_type": "code",
   "execution_count": null,
   "id": "75c8a174",
   "metadata": {},
   "outputs": [],
   "source": [
    "sub_4.info"
   ]
  },
  {
   "cell_type": "code",
   "execution_count": null,
   "id": "440dcb0a",
   "metadata": {},
   "outputs": [],
   "source": [
    "sub_4.shape"
   ]
  },
  {
   "cell_type": "code",
   "execution_count": null,
   "id": "0fbbecbb",
   "metadata": {},
   "outputs": [],
   "source": [
    "print(sub_4.dtypes)"
   ]
  },
  {
   "cell_type": "code",
   "execution_count": null,
   "id": "2015c5f0",
   "metadata": {},
   "outputs": [],
   "source": [
    "sub_4.describe()"
   ]
  },
  {
   "cell_type": "code",
   "execution_count": null,
   "id": "a3a369a1",
   "metadata": {
    "scrolled": true
   },
   "outputs": [],
   "source": [
    "sub_4.corr"
   ]
  },
  {
   "cell_type": "markdown",
   "id": "7800ebe2",
   "metadata": {},
   "source": [
    "# What Month were the most inital Sub-4 miles run?"
   ]
  },
  {
   "cell_type": "markdown",
   "id": "e2c3b668",
   "metadata": {},
   "source": [
    "Let's make a separate column for the months"
   ]
  },
  {
   "cell_type": "code",
   "execution_count": null,
   "id": "1746e9d2",
   "metadata": {
    "scrolled": true
   },
   "outputs": [],
   "source": [
    "sub_4['Month'] = sub_4.Date.str[-3:]\n",
    "sub_4.head()"
   ]
  },
  {
   "cell_type": "markdown",
   "id": "90da0f70",
   "metadata": {},
   "source": [
    "Let's see what months are in the database"
   ]
  },
  {
   "cell_type": "code",
   "execution_count": null,
   "id": "60109677",
   "metadata": {},
   "outputs": [],
   "source": [
    "sub_4.Month.value_counts()"
   ]
  },
  {
   "cell_type": "markdown",
   "id": "58f89f0a",
   "metadata": {},
   "source": [
    "Now let's rename the month's to it's full name (Except May)"
   ]
  },
  {
   "cell_type": "code",
   "execution_count": null,
   "id": "8ec13a5c",
   "metadata": {},
   "outputs": [],
   "source": [
    "sub_4['Month'].replace({\"Jan\" : \"January\", 'Feb':\"February\",'Mar':\"March\",'Apr':\"April\",'Jun':\"June\",'Jul':\"July\",'Aug':\"August\",'Sep':\"September\",'Oct':\"October\",'Nov':\"November\",'Dec':\"December\"}, inplace=True)\n",
    "sub_4.head()"
   ]
  },
  {
   "cell_type": "code",
   "execution_count": null,
   "id": "d07c95f2",
   "metadata": {
    "scrolled": true
   },
   "outputs": [],
   "source": [
    "sub_4.Month.value_counts()"
   ]
  },
  {
   "cell_type": "code",
   "execution_count": null,
   "id": "8be69faa",
   "metadata": {},
   "outputs": [],
   "source": [
    "sub_4.Month.value_counts().sum()"
   ]
  },
  {
   "cell_type": "markdown",
   "id": "d5c14871",
   "metadata": {},
   "source": [
    "Lets's turn the Month column into a dataframe"
   ]
  },
  {
   "cell_type": "code",
   "execution_count": null,
   "id": "cda3059d",
   "metadata": {},
   "outputs": [],
   "source": [
    "Month = pd.DataFrame(sub_4.Month.value_counts().reset_index())\n",
    "Month.head()"
   ]
  },
  {
   "cell_type": "code",
   "execution_count": null,
   "id": "53e1043e",
   "metadata": {},
   "outputs": [],
   "source": [
    "Month.columns = ['Month', 'Sub-4 Miles']\n",
    "Month.head()"
   ]
  },
  {
   "cell_type": "code",
   "execution_count": null,
   "id": "4de92737",
   "metadata": {},
   "outputs": [],
   "source": [
    "Month['Percent'] = round((Month['Sub-4 Miles'] / 659) * 100,1)\n",
    "Month.head()"
   ]
  },
  {
   "cell_type": "code",
   "execution_count": null,
   "id": "970ed0e0",
   "metadata": {},
   "outputs": [],
   "source": [
    "#sns.lineplot(Month.Month, Month['Sub-4 Miles'])\n",
    "#plt.title('Sub-4 miles Run by Month')\n",
    "#plt.xlabel('Month')\n",
    "#plt.ylabel('Sub-4 Miles')"
   ]
  },
  {
   "cell_type": "markdown",
   "id": "3c14b5a1",
   "metadata": {},
   "source": [
    "# First Sub-4 Mile Stats"
   ]
  },
  {
   "cell_type": "markdown",
   "id": "9443c081",
   "metadata": {},
   "source": [
    "Let's find what the average sub-4 miletime is for all the runners, when breaking 4 minutes for the first time."
   ]
  },
  {
   "cell_type": "code",
   "execution_count": null,
   "id": "834abb5f",
   "metadata": {},
   "outputs": [],
   "source": [
    "sub_4.Time_Sec_Real.mean()"
   ]
  },
  {
   "cell_type": "markdown",
   "id": "b0cca7cd",
   "metadata": {},
   "source": [
    "The average mile time in this dataset is "
   ]
  },
  {
   "cell_type": "markdown",
   "id": "aeb7ecde",
   "metadata": {},
   "source": [
    "Let's looks at some other overall stats"
   ]
  },
  {
   "cell_type": "code",
   "execution_count": null,
   "id": "9ac805ac",
   "metadata": {},
   "outputs": [],
   "source": [
    "sub_4.Time_Sec_Real.min()"
   ]
  },
  {
   "cell_type": "markdown",
   "id": "ca00d3f1",
   "metadata": {},
   "source": [
    "The fastest first sub-4 time in this dataset is "
   ]
  },
  {
   "cell_type": "code",
   "execution_count": null,
   "id": "907d5dbf",
   "metadata": {
    "scrolled": true
   },
   "outputs": [],
   "source": [
    "print(sub_4.Time_Sec_Real > )"
   ]
  },
  {
   "cell_type": "code",
   "execution_count": null,
   "id": "dd04728b",
   "metadata": {},
   "outputs": [],
   "source": [
    "slower_avg = sub_4.Time_Sec_Real > "
   ]
  },
  {
   "cell_type": "code",
   "execution_count": null,
   "id": "9fa9b7dc",
   "metadata": {},
   "outputs": [],
   "source": [
    "slower_avg.value_counts()"
   ]
  },
  {
   "cell_type": "markdown",
   "id": "7ccc4321",
   "metadata": {},
   "source": [
    " runners are slower than average"
   ]
  },
  {
   "cell_type": "code",
   "execution_count": null,
   "id": "ea33136a",
   "metadata": {
    "scrolled": true
   },
   "outputs": [],
   "source": [
    "print(sub_4.Time_Sec_Real < )"
   ]
  },
  {
   "cell_type": "code",
   "execution_count": null,
   "id": "2736b0b6",
   "metadata": {},
   "outputs": [],
   "source": [
    "faster_avg = sub_4.Time_Sec_Real < "
   ]
  },
  {
   "cell_type": "code",
   "execution_count": null,
   "id": "f04c3996",
   "metadata": {},
   "outputs": [],
   "source": [
    "faster_avg.value_counts()"
   ]
  },
  {
   "cell_type": "markdown",
   "id": "4178e362",
   "metadata": {},
   "source": [
    " Runners are faster than average"
   ]
  },
  {
   "cell_type": "code",
   "execution_count": null,
   "id": "8fdb9b8f",
   "metadata": {
    "scrolled": true
   },
   "outputs": [],
   "source": [
    "print(sub_4.Time_Sec_Real == )"
   ]
  },
  {
   "cell_type": "code",
   "execution_count": null,
   "id": "8e229b27",
   "metadata": {},
   "outputs": [],
   "source": [
    "avg = sub_4.Time_Sec_Real == "
   ]
  },
  {
   "cell_type": "code",
   "execution_count": null,
   "id": "47d1e248",
   "metadata": {},
   "outputs": [],
   "source": [
    "avg.value_counts()"
   ]
  },
  {
   "cell_type": "markdown",
   "id": "ae8987c9",
   "metadata": {},
   "source": [
    " milers categorize as average"
   ]
  },
  {
   "cell_type": "markdown",
   "id": "3897c43a",
   "metadata": {},
   "source": [
    "Let's see if we round the average time to 3:58.7"
   ]
  },
  {
   "cell_type": "code",
   "execution_count": null,
   "id": "2b93c18b",
   "metadata": {
    "scrolled": false
   },
   "outputs": [],
   "source": [
    "print(sub_4.Time_Sec == 238.7)"
   ]
  },
  {
   "cell_type": "code",
   "execution_count": null,
   "id": "701a0b4b",
   "metadata": {},
   "outputs": [],
   "source": [
    "avg_2 = sub_4.Time_Sec == 238.7"
   ]
  },
  {
   "cell_type": "code",
   "execution_count": null,
   "id": "280ca231",
   "metadata": {},
   "outputs": [],
   "source": [
    "avg_2.value_counts()"
   ]
  },
  {
   "cell_type": "markdown",
   "id": "40dee7bf",
   "metadata": {},
   "source": [
    "When we round the average mile time to the nearest tenth, 24 milers categorize as average. This means there will be a slight change in the number of runners that are faster and slower than average if we go by this."
   ]
  },
  {
   "cell_type": "code",
   "execution_count": null,
   "id": "25a9942f",
   "metadata": {},
   "outputs": [],
   "source": [
    "sub_4.Time_Sec_Real.max()"
   ]
  },
  {
   "cell_type": "markdown",
   "id": "d0ba2304",
   "metadata": {},
   "source": [
    "The slowest first sub-4 mile time in this dataset is 3:59.99"
   ]
  },
  {
   "cell_type": "code",
   "execution_count": null,
   "id": "1b22b368",
   "metadata": {},
   "outputs": [],
   "source": [
    "sub_4.Time_Sec_Real.median()"
   ]
  },
  {
   "cell_type": "code",
   "execution_count": null,
   "id": "40474326",
   "metadata": {},
   "outputs": [],
   "source": [
    "sub_4.Time_Sec_Real.mode()"
   ]
  },
  {
   "cell_type": "markdown",
   "id": "02f1a62b",
   "metadata": {},
   "source": [
    "Let's make a visualization of the mile times"
   ]
  },
  {
   "cell_type": "code",
   "execution_count": null,
   "id": "a227f427",
   "metadata": {},
   "outputs": [],
   "source": [
    "#sns.lineplot(sub_4.Order, sub_4.Time_Sec)\n",
    "#plt.title('American Sub-4 Mile Times By Seconds')\n",
    "#plt.xlabel('Chronological Order')\n",
    "#plt.ylabel('Time')"
   ]
  },
  {
   "cell_type": "markdown",
   "id": "8f2dde6a",
   "metadata": {},
   "source": [
    "Quartiles and Quantiles/Percentiles"
   ]
  },
  {
   "cell_type": "code",
   "execution_count": null,
   "id": "eff415ec",
   "metadata": {},
   "outputs": [],
   "source": [
    "sub_4.Time_Sec_Real.quantile(q = 0.25)"
   ]
  },
  {
   "cell_type": "code",
   "execution_count": null,
   "id": "9e8d7656",
   "metadata": {},
   "outputs": [],
   "source": [
    "sub_4.Time_Sec_Real.quantile(q = 0.50)"
   ]
  },
  {
   "cell_type": "code",
   "execution_count": null,
   "id": "02ee2f96",
   "metadata": {},
   "outputs": [],
   "source": [
    "sub_4.Time_Sec_Real.quantile(q = 0.75)"
   ]
  },
  {
   "cell_type": "code",
   "execution_count": null,
   "id": "ddb7943e",
   "metadata": {},
   "outputs": [],
   "source": [
    "sub_4.Time_Sec_Real.describe()"
   ]
  },
  {
   "cell_type": "markdown",
   "id": "7d3588f2",
   "metadata": {},
   "source": [
    "IQR"
   ]
  },
  {
   "cell_type": "code",
   "execution_count": null,
   "id": "697c65ff",
   "metadata": {},
   "outputs": [],
   "source": [
    "sub_4.Time_Sec_Real.quantile(q = 0.75) - sub_4.Time_Sec_Real.quantile(q = 0.25)"
   ]
  },
  {
   "cell_type": "markdown",
   "id": "c9439fed",
   "metadata": {},
   "source": [
    "Miscellaneous Data"
   ]
  },
  {
   "cell_type": "code",
   "execution_count": null,
   "id": "2b4e02e1",
   "metadata": {},
   "outputs": [],
   "source": [
    "sub_4.nsmallest(1,'Time_Sec_Real')"
   ]
  },
  {
   "cell_type": "markdown",
   "id": "0a3c81c7",
   "metadata": {},
   "source": [
    "has the fastest sub-4 opener"
   ]
  },
  {
   "cell_type": "code",
   "execution_count": null,
   "id": "65aef51a",
   "metadata": {},
   "outputs": [],
   "source": [
    "sub_4.nsmallest(1,'PR_Sec')"
   ]
  },
  {
   "cell_type": "markdown",
   "id": "89cbb009",
   "metadata": {},
   "source": [
    "has the fastest mile PR (American Record)"
   ]
  },
  {
   "cell_type": "markdown",
   "id": "e5e45b2e",
   "metadata": {},
   "source": [
    "# Mile PR Stats"
   ]
  },
  {
   "cell_type": "code",
   "execution_count": null,
   "id": "ce9067d7",
   "metadata": {},
   "outputs": [],
   "source": [
    "sub_4.PR_Sec.mean()"
   ]
  },
  {
   "cell_type": "markdown",
   "id": "283257a3",
   "metadata": {},
   "source": [
    "The average mile PR in this dataset is "
   ]
  },
  {
   "cell_type": "code",
   "execution_count": null,
   "id": "423e79cb",
   "metadata": {},
   "outputs": [],
   "source": [
    "sub_4.PR_Sec.min()"
   ]
  },
  {
   "cell_type": "code",
   "execution_count": null,
   "id": "6d8f3b23",
   "metadata": {},
   "outputs": [],
   "source": [
    "The fastest time in this dataset is "
   ]
  },
  {
   "cell_type": "code",
   "execution_count": null,
   "id": "03c39c9e",
   "metadata": {},
   "outputs": [],
   "source": [
    "print(sub_4.PR_Sec > )"
   ]
  },
  {
   "cell_type": "code",
   "execution_count": null,
   "id": "3cde10cd",
   "metadata": {},
   "outputs": [],
   "source": [
    "slower_avg = sub_4.PR_Sec > "
   ]
  },
  {
   "cell_type": "code",
   "execution_count": null,
   "id": "a4c6309f",
   "metadata": {},
   "outputs": [],
   "source": [
    "slower_avg.value_counts()"
   ]
  },
  {
   "cell_type": "markdown",
   "id": "9189a7bb",
   "metadata": {},
   "source": [
    "runners are slower than average"
   ]
  },
  {
   "cell_type": "code",
   "execution_count": null,
   "id": "f3ae6458",
   "metadata": {},
   "outputs": [],
   "source": [
    "print(sub_4.PR_Sec < )"
   ]
  },
  {
   "cell_type": "code",
   "execution_count": null,
   "id": "700b1d48",
   "metadata": {},
   "outputs": [],
   "source": [
    "faster_avg = sub_4.PR_Sec < "
   ]
  },
  {
   "cell_type": "code",
   "execution_count": null,
   "id": "f5f83995",
   "metadata": {},
   "outputs": [],
   "source": [
    "faster_avg.value_counts()"
   ]
  },
  {
   "cell_type": "code",
   "execution_count": null,
   "id": "7ad5ef34",
   "metadata": {},
   "outputs": [],
   "source": [
    " Runners are faster than average"
   ]
  },
  {
   "cell_type": "code",
   "execution_count": null,
   "id": "065fbb46",
   "metadata": {},
   "outputs": [],
   "source": [
    "print(sub_4.PR_Sec == )"
   ]
  },
  {
   "cell_type": "code",
   "execution_count": null,
   "id": "efaa6d22",
   "metadata": {},
   "outputs": [],
   "source": [
    "avg = sub_4.PR_Sec == "
   ]
  },
  {
   "cell_type": "code",
   "execution_count": null,
   "id": "d24635ce",
   "metadata": {},
   "outputs": [],
   "source": [
    "avg.value_counts()"
   ]
  },
  {
   "cell_type": "code",
   "execution_count": null,
   "id": "1ea9d3e9",
   "metadata": {},
   "outputs": [],
   "source": [
    " milers categorize as average"
   ]
  },
  {
   "cell_type": "code",
   "execution_count": null,
   "id": "1b863530",
   "metadata": {},
   "outputs": [],
   "source": [
    "sub_4.PR_Sec.max()"
   ]
  },
  {
   "cell_type": "code",
   "execution_count": null,
   "id": "00dc4ad1",
   "metadata": {},
   "outputs": [],
   "source": [
    "The slowest PR in this dataset is "
   ]
  },
  {
   "cell_type": "markdown",
   "id": "b120fab6",
   "metadata": {},
   "source": [
    "Quartiles and Quantiles/Percentiles"
   ]
  },
  {
   "cell_type": "code",
   "execution_count": null,
   "id": "05103305",
   "metadata": {},
   "outputs": [],
   "source": [
    "sub_4.PR_Sec.quantile(q = 0.25)"
   ]
  },
  {
   "cell_type": "code",
   "execution_count": null,
   "id": "55fa3cb7",
   "metadata": {},
   "outputs": [],
   "source": [
    "sub_4.PR_Sec.quantile(q = 0.50)"
   ]
  },
  {
   "cell_type": "code",
   "execution_count": null,
   "id": "08f93f49",
   "metadata": {},
   "outputs": [],
   "source": [
    "sub_4.PR_Sec.quantile(q = 0.75)"
   ]
  },
  {
   "cell_type": "code",
   "execution_count": null,
   "id": "be9e1c1d",
   "metadata": {},
   "outputs": [],
   "source": [
    "sub_4.PR_Sec.describe()"
   ]
  },
  {
   "cell_type": "markdown",
   "id": "4ec790a0",
   "metadata": {},
   "source": [
    "IQR"
   ]
  },
  {
   "cell_type": "code",
   "execution_count": null,
   "id": "405659f5",
   "metadata": {},
   "outputs": [],
   "source": [
    "sub_4.PR_Sec.quantile(q = 0.75) - sub_4.PR_Sec.quantile(q = 0.25)"
   ]
  },
  {
   "cell_type": "markdown",
   "id": "382da280",
   "metadata": {},
   "source": [
    "# Difference Between First Sub-4 mile & Mile PR"
   ]
  },
  {
   "cell_type": "code",
   "execution_count": null,
   "id": "91961ad0",
   "metadata": {},
   "outputs": [],
   "source": [
    "sub_4.First_PR_Diff.mean()"
   ]
  },
  {
   "cell_type": "code",
   "execution_count": null,
   "id": "f0caa6f3",
   "metadata": {},
   "outputs": [],
   "source": [
    "The average imporvment in mile time since breaking sub-4 was sec."
   ]
  },
  {
   "cell_type": "code",
   "execution_count": null,
   "id": "9e858d05",
   "metadata": {},
   "outputs": [],
   "source": [
    "sub_4.First_PR_Diff.max()"
   ]
  },
  {
   "cell_type": "markdown",
   "id": "e20ae151",
   "metadata": {},
   "source": [
    "The largest improvement in time was "
   ]
  },
  {
   "cell_type": "code",
   "execution_count": null,
   "id": "c0583d36",
   "metadata": {},
   "outputs": [],
   "source": [
    "sub_4.First_PR_Diff.min()"
   ]
  },
  {
   "cell_type": "markdown",
   "id": "4bc37f11",
   "metadata": {},
   "source": [
    "The smallest improvement in time was"
   ]
  },
  {
   "cell_type": "markdown",
   "id": "0fa8cc4f",
   "metadata": {},
   "source": [
    "Quartiles and Quantiles/Percentiles"
   ]
  },
  {
   "cell_type": "code",
   "execution_count": null,
   "id": "82b94114",
   "metadata": {},
   "outputs": [],
   "source": [
    "sub_4.First_PR_Diff.quantile(q = 0.25)"
   ]
  },
  {
   "cell_type": "code",
   "execution_count": null,
   "id": "3df45315",
   "metadata": {},
   "outputs": [],
   "source": [
    "sub_4.First_PR_Diff.quantile(q = 0.50)"
   ]
  },
  {
   "cell_type": "code",
   "execution_count": null,
   "id": "55eeacc6",
   "metadata": {},
   "outputs": [],
   "source": [
    "sub_4.First_PR_Diff.quantile(q = 0.75)"
   ]
  },
  {
   "cell_type": "code",
   "execution_count": null,
   "id": "83d1133d",
   "metadata": {},
   "outputs": [],
   "source": [
    "sub_4.First_PR_Diff.describe()"
   ]
  },
  {
   "cell_type": "markdown",
   "id": "4ca91221",
   "metadata": {},
   "source": [
    "IQR"
   ]
  },
  {
   "cell_type": "code",
   "execution_count": null,
   "id": "30a7b919",
   "metadata": {},
   "outputs": [],
   "source": [
    "sub_4.sub_4.quantile(q = 0.75) - sub_4.PR_Sec.quantile(q = 0.25)"
   ]
  },
  {
   "cell_type": "markdown",
   "id": "024637e5",
   "metadata": {},
   "source": [
    "Who had the largest improvements in time?"
   ]
  },
  {
   "cell_type": "code",
   "execution_count": null,
   "id": "f01b35b4",
   "metadata": {},
   "outputs": [],
   "source": [
    "sub_4.nlargest(10,'First_PR_Diff')"
   ]
  },
  {
   "cell_type": "markdown",
   "id": "28ab61c3",
   "metadata": {},
   "source": [
    "Who had the smallest improvements in time?"
   ]
  },
  {
   "cell_type": "markdown",
   "id": "ecfc8d6b",
   "metadata": {},
   "source": [
    "Lets first make dataframes for the both the milers that made improvements and didn't make in improvements."
   ]
  },
  {
   "cell_type": "markdown",
   "id": "467c6f2e",
   "metadata": {},
   "source": [
    "Dataframe for milers that got faster."
   ]
  },
  {
   "cell_type": "code",
   "execution_count": null,
   "id": "51327401",
   "metadata": {},
   "outputs": [],
   "source": [
    "Faster = sub_4[sub_4.First_PR_Diff <> 0]\n",
    "Faster.head(3)"
   ]
  },
  {
   "cell_type": "code",
   "execution_count": null,
   "id": "48677903",
   "metadata": {},
   "outputs": [],
   "source": [
    "Faster = pd.DataFrame(faster)\n",
    "Faster.head(3)"
   ]
  },
  {
   "cell_type": "code",
   "execution_count": null,
   "id": "45319e32",
   "metadata": {},
   "outputs": [],
   "source": [
    "sub_4.nsmallest(10,'First_PR_Diff')"
   ]
  },
  {
   "cell_type": "markdown",
   "id": "5d46b589",
   "metadata": {},
   "source": [
    "Dataframe for milers that didn't make improvements."
   ]
  },
  {
   "cell_type": "code",
   "execution_count": null,
   "id": "4130686e",
   "metadata": {},
   "outputs": [],
   "source": [
    "No_Improvement = sub_4[sub_4.First_PR_Diff == 0]\n",
    ".head(3)"
   ]
  },
  {
   "cell_type": "code",
   "execution_count": null,
   "id": "e29514d5",
   "metadata": {},
   "outputs": [],
   "source": [
    "No_Improvement = pd.DataFrame(No_Improvement)\n",
    "No_Improvement.head(3)"
   ]
  },
  {
   "cell_type": "code",
   "execution_count": null,
   "id": "ea7d5529",
   "metadata": {},
   "outputs": [],
   "source": [
    "No_Improvement.shape"
   ]
  },
  {
   "cell_type": "markdown",
   "id": "f08778ec",
   "metadata": {},
   "source": [
    "# Indoor vs. Outdoor (First Sub-4 Mile)"
   ]
  },
  {
   "cell_type": "markdown",
   "id": "8398ed42",
   "metadata": {},
   "source": [
    "Let's see how many Sub-4 miles were run indoors compared to outdoors and make a dataframe."
   ]
  },
  {
   "cell_type": "code",
   "execution_count": null,
   "id": "2cf691fc",
   "metadata": {},
   "outputs": [],
   "source": [
    "sub_4.Area.value_counts()"
   ]
  },
  {
   "cell_type": "code",
   "execution_count": null,
   "id": "abc64d51",
   "metadata": {},
   "outputs": [],
   "source": [
    "plt.pie(sub_4.Area.value_counts())\n",
    "plt.show()"
   ]
  },
  {
   "cell_type": "code",
   "execution_count": null,
   "id": "fb027ff5",
   "metadata": {},
   "outputs": [],
   "source": [
    "Season = pd.DataFrame(sub_4.Area.value_counts().reset_index())\n",
    "Season.head()"
   ]
  },
  {
   "cell_type": "code",
   "execution_count": null,
   "id": "aa8f5579",
   "metadata": {},
   "outputs": [],
   "source": [
    "Season.columns = ['Season', 'Sub-4 Miles']\n",
    "Season.head()"
   ]
  },
  {
   "cell_type": "code",
   "execution_count": null,
   "id": "393d3b8a",
   "metadata": {
    "scrolled": true
   },
   "outputs": [],
   "source": [
    "Season['Percent'] = round((Season['Sub-4 Miles'] / 659) * 100,1)\n",
    "Season.head()"
   ]
  },
  {
   "cell_type": "markdown",
   "id": "356a6786",
   "metadata": {},
   "source": [
    "# What year did the most Americans run under 4 minutes for the first time?"
   ]
  },
  {
   "cell_type": "code",
   "execution_count": null,
   "id": "48a0f16e",
   "metadata": {},
   "outputs": [],
   "source": [
    "sub_4.Year.value_counts()"
   ]
  },
  {
   "cell_type": "code",
   "execution_count": null,
   "id": "f697b1fd",
   "metadata": {},
   "outputs": [],
   "source": [
    "Year = pd.DataFrame(sub_4.Year.value_counts().reset_index())\n",
    "Year.head()"
   ]
  },
  {
   "cell_type": "code",
   "execution_count": null,
   "id": "4e80cdbe",
   "metadata": {},
   "outputs": [],
   "source": [
    "Year.columns = ['Year', 'Runners Under 4']\n",
    "Year.head()"
   ]
  },
  {
   "cell_type": "code",
   "execution_count": null,
   "id": "4dc727ee",
   "metadata": {},
   "outputs": [],
   "source": [
    "Year['Percent'] = round((Year['Runners Under 4'] / 659) * 100,1)\n",
    "Year.head()"
   ]
  },
  {
   "cell_type": "code",
   "execution_count": null,
   "id": "42644528",
   "metadata": {},
   "outputs": [],
   "source": [
    "#sns.lineplot(Year.Year, Year['Runners Under 4'])\n",
    "#plt.title('Runners under 4 minutes in the Mile by Year')\n",
    "#plt.xlabel('Year')\n",
    "#plt.ylabel('Runners Under 4')"
   ]
  },
  {
   "cell_type": "code",
   "execution_count": null,
   "id": "b7694c36",
   "metadata": {},
   "outputs": [],
   "source": [
    "top5_years = Year.nlargest(5,'Runners Under 4')\n",
    "top5_years.head()"
   ]
  },
  {
   "cell_type": "code",
   "execution_count": null,
   "id": "07384cff",
   "metadata": {},
   "outputs": [],
   "source": [
    "#sns.lineplot(top5_years.Year, top5_years['Runners Under 4'])\n",
    "#plt.title('Runners under 4 minutes in the Mile by Year')\n",
    "#plt.xlabel('Year')\n",
    "#plt.ylabel('Runners Under 4')"
   ]
  },
  {
   "cell_type": "markdown",
   "id": "4405d6c8",
   "metadata": {},
   "source": [
    "Let's look average first sub-4 times per year"
   ]
  },
  {
   "cell_type": "code",
   "execution_count": null,
   "id": "b2ed2acd",
   "metadata": {},
   "outputs": [],
   "source": [
    "avg_1st_sub4_yr = sub_4.groupby('Year')['Time_Sec_Real'].mean()\n",
    "print(avg_1st_sub4_yr)"
   ]
  },
  {
   "cell_type": "code",
   "execution_count": null,
   "id": "3140d743",
   "metadata": {},
   "outputs": [],
   "source": [
    "avg_1st_sub4_yr = pd.DataFrame(avg_1st_sub4_yr)\n",
    "avg_1st_sub4_yr.head()"
   ]
  },
  {
   "cell_type": "markdown",
   "id": "8acd09cb",
   "metadata": {},
   "source": [
    "Let's look average mile PR per year"
   ]
  },
  {
   "cell_type": "code",
   "execution_count": null,
   "id": "80c36738",
   "metadata": {},
   "outputs": [],
   "source": [
    "avg_pr_yr = sub_4.groupby('Year')['PR_Sec'].mean()\n",
    "print(avg_pr_yr)"
   ]
  },
  {
   "cell_type": "code",
   "execution_count": null,
   "id": "ddd3aee1",
   "metadata": {},
   "outputs": [],
   "source": [
    "avg_pr_yr = pd.DataFrame(avg_pr_yr)\n",
    "avg_pr_yr.head()"
   ]
  },
  {
   "cell_type": "markdown",
   "id": "97e9e3c0",
   "metadata": {},
   "source": [
    "# What decade did the most Americans run under 4 minutes for the first time?"
   ]
  },
  {
   "cell_type": "code",
   "execution_count": null,
   "id": "431d2484",
   "metadata": {},
   "outputs": [],
   "source": [
    "sub_4.Decade.value_counts()"
   ]
  },
  {
   "cell_type": "code",
   "execution_count": null,
   "id": "5b8329be",
   "metadata": {},
   "outputs": [],
   "source": [
    "Decade =  pd.DataFrame(sub_4.Decade.value_counts().reset_index())\n",
    "Decade.head()"
   ]
  },
  {
   "cell_type": "code",
   "execution_count": null,
   "id": "e957cc2b",
   "metadata": {},
   "outputs": [],
   "source": [
    "Decade.columns = ['Decade', 'Runners Under 4']\n",
    "Decade.head()"
   ]
  },
  {
   "cell_type": "code",
   "execution_count": null,
   "id": "8ff1580c",
   "metadata": {},
   "outputs": [],
   "source": [
    "Decade['Percent'] = round((Decade['Runners Under 4'] / 659) * 100,1)\n",
    "Decade.head()"
   ]
  },
  {
   "cell_type": "code",
   "execution_count": null,
   "id": "087e8065",
   "metadata": {},
   "outputs": [],
   "source": [
    "#sns.lineplot(Decade.Decade, Decade['Runners Under 4'])\n",
    "#plt.title('Runners under 4 minutes in the Mile by Decade')\n",
    "#plt.xlabel('Decade')\n",
    "#plt.ylabel('Runners Under 4')"
   ]
  },
  {
   "cell_type": "markdown",
   "id": "4c7a652d",
   "metadata": {},
   "source": [
    "Let's look average first sub-4 times per decade"
   ]
  },
  {
   "cell_type": "code",
   "execution_count": null,
   "id": "e7717d11",
   "metadata": {},
   "outputs": [],
   "source": [
    "avg_1st_sub4_decade = sub_4.groupby('Decade')['Time_Sec_Real'].mean()\n",
    "print(avg_1st_sub4_decade)"
   ]
  },
  {
   "cell_type": "code",
   "execution_count": null,
   "id": "e4045b37",
   "metadata": {},
   "outputs": [],
   "source": [
    "avg_1st_sub4_decade = pd.DataFrame(avg_1st_sub4_decade)\n",
    "avg_1st_sub4_decade.head()"
   ]
  },
  {
   "cell_type": "markdown",
   "id": "ae22836e",
   "metadata": {},
   "source": [
    "Let's look average mile PR per decade"
   ]
  },
  {
   "cell_type": "code",
   "execution_count": null,
   "id": "4f691f4e",
   "metadata": {},
   "outputs": [],
   "source": [
    "avg_pr_decade = sub_4.groupby('Decade')['PR_Sec'].mean()\n",
    "print(avg_pr_decade)"
   ]
  },
  {
   "cell_type": "code",
   "execution_count": null,
   "id": "2a179d4c",
   "metadata": {},
   "outputs": [],
   "source": [
    "avg_pr_decade = pd.DataFrame(avg_pr_decade)\n",
    "avg_pr_decade.head()"
   ]
  },
  {
   "cell_type": "markdown",
   "id": "0f598652",
   "metadata": {},
   "source": [
    "# Where where most Sub-4 miles run by Americans?"
   ]
  },
  {
   "cell_type": "code",
   "execution_count": null,
   "id": "57b58bff",
   "metadata": {},
   "outputs": [],
   "source": [
    "sub_4.Location.value_counts()"
   ]
  },
  {
   "cell_type": "code",
   "execution_count": null,
   "id": "f38d9342",
   "metadata": {},
   "outputs": [],
   "source": [
    "Location = pd.DataFrame(sub_4.Location.value_counts().reset_index())\n",
    "Location.head()"
   ]
  },
  {
   "cell_type": "code",
   "execution_count": null,
   "id": "75a04e03",
   "metadata": {},
   "outputs": [],
   "source": [
    "Location.columns = ['City', 'Sub-4 Miles']\n",
    "Location.head()"
   ]
  },
  {
   "cell_type": "code",
   "execution_count": null,
   "id": "6790adce",
   "metadata": {},
   "outputs": [],
   "source": [
    "Location['Percent'] = round((Location['Sub-4 Miles'] / 659) * 100,1)\n",
    "Location.head()"
   ]
  },
  {
   "cell_type": "code",
   "execution_count": null,
   "id": "348510d2",
   "metadata": {},
   "outputs": [],
   "source": [
    "plt.bar(Location.City, Location['Sub-4 Miles'])\n",
    "plt.title('Cities with American Sub-4 Miles')\n",
    "plt.xlabel('City')\n",
    "plt.ylabel('Number of Sub-4 Miles')\n",
    "plt.show()"
   ]
  },
  {
   "cell_type": "code",
   "execution_count": null,
   "id": "55f07572",
   "metadata": {},
   "outputs": [],
   "source": [
    "top10_cities = Location.nlargest(10,'Sub-4 Miles')\n",
    "top10_cities.head()"
   ]
  },
  {
   "cell_type": "code",
   "execution_count": null,
   "id": "a56382ce",
   "metadata": {
    "scrolled": true
   },
   "outputs": [],
   "source": [
    "plt.bar(top10_cities.City,top10_cities['Sub-4 Miles'], color='black')\n",
    "plt.title('Top 10 Cities With the Most Sub-4 Miles Run By Americans')\n",
    "plt.xlabel('City')\n",
    "plt.ylabel('Number of Sub-4 Miles Run')\n",
    "plt.xticks(rotation = 90)\n",
    "plt.show()"
   ]
  },
  {
   "cell_type": "markdown",
   "id": "dabda199",
   "metadata": {},
   "source": [
    "Let's look average first sub-4 times by location"
   ]
  },
  {
   "cell_type": "code",
   "execution_count": null,
   "id": "8ccb97be",
   "metadata": {},
   "outputs": [],
   "source": [
    "avg_1st_sub4_loc = sub_4.groupby('Location')['Time_Sec_Real'].mean()\n",
    "print(avg_1st_sub4_loc)"
   ]
  },
  {
   "cell_type": "code",
   "execution_count": null,
   "id": "fc559649",
   "metadata": {},
   "outputs": [],
   "source": [
    "avg_1st_sub4_loc = pd.DataFrame(avg_1st_sub4_loc)\n",
    "avg_1st_sub4_loc.head()"
   ]
  },
  {
   "cell_type": "markdown",
   "id": "bcfc2279",
   "metadata": {},
   "source": [
    "# What State were the the most Sub-4 miles run?"
   ]
  },
  {
   "cell_type": "code",
   "execution_count": null,
   "id": "359b33f6",
   "metadata": {},
   "outputs": [],
   "source": [
    "sub_4.State.value_counts()"
   ]
  },
  {
   "cell_type": "code",
   "execution_count": null,
   "id": "ac6b6279",
   "metadata": {},
   "outputs": [],
   "source": [
    "State = pd.DataFrame(sub_4.State.value_counts().reset_index())\n",
    "State.head()"
   ]
  },
  {
   "cell_type": "code",
   "execution_count": null,
   "id": "dc805d40",
   "metadata": {},
   "outputs": [],
   "source": [
    "State.columns = ['State', 'Sub-4 Miles']\n",
    "State.head()"
   ]
  },
  {
   "cell_type": "code",
   "execution_count": null,
   "id": "49db5e64",
   "metadata": {},
   "outputs": [],
   "source": [
    "State['Percent'] = round((State['Sub-4 Miles'] / 659) * 100,1)\n",
    "State.head()"
   ]
  },
  {
   "cell_type": "code",
   "execution_count": null,
   "id": "a5475581",
   "metadata": {},
   "outputs": [],
   "source": [
    "top10_states = State.nlargest(10,'Sub-4 Miles')\n",
    "top10_states.head()"
   ]
  },
  {
   "cell_type": "code",
   "execution_count": null,
   "id": "95e3be94",
   "metadata": {},
   "outputs": [],
   "source": [
    "plt.bar(top10_states.State,top10_states['Sub-4 Miles'], color='red')\n",
    "plt.title('Top 10 States With the Most Sub-4 Miles Run By Americans')\n",
    "plt.xlabel('State')\n",
    "plt.ylabel('Number of Sub-4 Miles Run')\n",
    "plt.xticks(rotation = 90)\n",
    "plt.show()"
   ]
  },
  {
   "cell_type": "code",
   "execution_count": null,
   "id": "50b12f4a",
   "metadata": {},
   "outputs": [],
   "source": [
    "Let's look average first sub-4 times by state\n",
    "\n",
    "\n",
    "\n",
    "\n",
    "\n",
    "avg_pr_decade = pd.DataFrame(avg_pr_decade)\n",
    "avg_pr_decade.head()"
   ]
  },
  {
   "cell_type": "code",
   "execution_count": null,
   "id": "e5af0560",
   "metadata": {},
   "outputs": [],
   "source": [
    "avg_1st_sub4_state = sub_4.groupby('State')['Time_Sec_Real'].mean()\n",
    "print(avg_1st_sub4_state)"
   ]
  },
  {
   "cell_type": "code",
   "execution_count": null,
   "id": "9839e45f",
   "metadata": {},
   "outputs": [],
   "source": [
    "avg_1st_sub4_state = pd.DataFrame(avg_1st_sub4_state)\n",
    "avg_1st_sub4_state.head()"
   ]
  },
  {
   "cell_type": "markdown",
   "id": "590ef194",
   "metadata": {},
   "source": [
    "Let's look average mile PR per by state"
   ]
  },
  {
   "cell_type": "code",
   "execution_count": null,
   "id": "b66e1744",
   "metadata": {},
   "outputs": [],
   "source": [
    "avg_pr_state = sub_4.groupby('State')['PR_Sec'].mean()\n",
    "print(avg_pr_state)"
   ]
  },
  {
   "cell_type": "code",
   "execution_count": null,
   "id": "2c976689",
   "metadata": {},
   "outputs": [],
   "source": [
    "avg_pr_state = pd.DataFrame(avg_pr_state)\n",
    "avg_pr_state.head()"
   ]
  },
  {
   "cell_type": "markdown",
   "id": "420435fb",
   "metadata": {},
   "source": [
    "# What team team and/or school produced the Sub-4 miles?"
   ]
  },
  {
   "cell_type": "code",
   "execution_count": null,
   "id": "e5dd7ef8",
   "metadata": {},
   "outputs": [],
   "source": [
    "sub_4.Affiliation.unique()"
   ]
  },
  {
   "cell_type": "code",
   "execution_count": null,
   "id": "4e73bd64",
   "metadata": {},
   "outputs": [],
   "source": [
    "sub_4.Affiliation.value_counts()"
   ]
  },
  {
   "cell_type": "code",
   "execution_count": null,
   "id": "d8f5e998",
   "metadata": {},
   "outputs": [],
   "source": [
    "Team = pd.DataFrame(sub_4.Affiliation.value_counts().reset_index())\n",
    "Team.head()"
   ]
  },
  {
   "cell_type": "code",
   "execution_count": null,
   "id": "cebee47c",
   "metadata": {},
   "outputs": [],
   "source": [
    "Team.columns = ['Team', 'Runners']\n",
    "Team.head()"
   ]
  },
  {
   "cell_type": "code",
   "execution_count": null,
   "id": "e90e0ff9",
   "metadata": {},
   "outputs": [],
   "source": [
    "Team['Percent'] = round((Team['Runners'] / 659) * 100,1)\n",
    "Team.head()"
   ]
  },
  {
   "cell_type": "code",
   "execution_count": null,
   "id": "ad48165e",
   "metadata": {},
   "outputs": [],
   "source": [
    "top10_teams = Team.nlargest(10,'Runners')\n",
    "top10_teams.head()"
   ]
  },
  {
   "cell_type": "code",
   "execution_count": null,
   "id": "1ac6585f",
   "metadata": {},
   "outputs": [],
   "source": [
    "plt.bar(top10_teams.Team,top10_teams.Runners, color='green')\n",
    "plt.title('Top 10 Teams With the Most Sub-4 Runners')\n",
    "plt.xlabel('Team')\n",
    "plt.ylabel('Number of Sub-4 Runners')\n",
    "plt.xticks(rotation = 90)\n",
    "plt.show()"
   ]
  },
  {
   "cell_type": "markdown",
   "id": "cf5622e4",
   "metadata": {},
   "source": [
    "Let's look average first sub-4 times for these teams/schools"
   ]
  },
  {
   "cell_type": "code",
   "execution_count": null,
   "id": "3ac3ead6",
   "metadata": {},
   "outputs": [],
   "source": [
    "avg_1st_sub4 = sub_4.groupby('Affiliation')['Time_Sec_Real'].mean()\n",
    "print(avg_1st_sub4)"
   ]
  },
  {
   "cell_type": "code",
   "execution_count": null,
   "id": "535cdd60",
   "metadata": {},
   "outputs": [],
   "source": [
    "avg_1st_sub4 = pd.DataFrame(avg_1st_sub4)\n",
    "avg_1st_sub4.head()"
   ]
  },
  {
   "cell_type": "markdown",
   "id": "3a20463b",
   "metadata": {},
   "source": [
    "Let's look average mile PR for these teams/schools"
   ]
  },
  {
   "cell_type": "code",
   "execution_count": null,
   "id": "c29083e8",
   "metadata": {},
   "outputs": [],
   "source": [
    "avg_pr_team = sub_4.groupby('Affiliation')['PR_Sec'].mean()\n",
    "print(avg_pr_team)"
   ]
  },
  {
   "cell_type": "code",
   "execution_count": null,
   "id": "e6ec2d6d",
   "metadata": {},
   "outputs": [],
   "source": [
    "avg_pr_team = pd.DataFrame(avg_pr_team)\n",
    "avg_pr_team.head()"
   ]
  },
  {
   "cell_type": "markdown",
   "id": "418cff7b",
   "metadata": {},
   "source": [
    "Which school/team had the most improved runners"
   ]
  },
  {
   "cell_type": "code",
   "execution_count": null,
   "id": "37ecab2a",
   "metadata": {},
   "outputs": [],
   "source": [
    "avg_first_pr = sub_4.groupby('Affiliation')['First_PR_Diff'].mean()\n",
    "print(avg_first_pr)"
   ]
  },
  {
   "cell_type": "code",
   "execution_count": null,
   "id": "6f4ee01b",
   "metadata": {},
   "outputs": [],
   "source": [
    "avg_first_pr = pd.DataFrame(avg_first_pr)\n",
    "avg_first_pr.head()"
   ]
  },
  {
   "cell_type": "markdown",
   "id": "fb6d3ca3",
   "metadata": {},
   "source": [
    "# What level were most of these runners when they ran under 4 minutes?"
   ]
  },
  {
   "cell_type": "code",
   "execution_count": null,
   "id": "bbda5da6",
   "metadata": {},
   "outputs": [],
   "source": [
    "sub_4.Level.value_counts()"
   ]
  },
  {
   "cell_type": "code",
   "execution_count": null,
   "id": "9e7d07cd",
   "metadata": {},
   "outputs": [],
   "source": [
    "Level = pd.DataFrame(sub_4.Level.value_counts().reset_index())\n",
    "Level.head()"
   ]
  },
  {
   "cell_type": "code",
   "execution_count": null,
   "id": "4b678b8c",
   "metadata": {},
   "outputs": [],
   "source": [
    "Level.columns = ['Level', 'Runners']\n",
    "Level.head()"
   ]
  },
  {
   "cell_type": "code",
   "execution_count": null,
   "id": "ab2025e2",
   "metadata": {},
   "outputs": [],
   "source": [
    "Level['Percent'] = round((Level['Runners'] / 659) * 100,1)\n",
    "Level.head()"
   ]
  },
  {
   "cell_type": "code",
   "execution_count": null,
   "id": "44302aee",
   "metadata": {},
   "outputs": [],
   "source": [
    "plt.bar(Level.Level, Level.Runners)\n",
    "plt.title('Level of Runner When They Ran Sub-4')\n",
    "plt.xlabel('Level')\n",
    "plt.ylabel('Number of Runners Under 4 Minutes')\n",
    "plt.show()"
   ]
  },
  {
   "cell_type": "markdown",
   "id": "fe8a45a8",
   "metadata": {},
   "source": [
    "Lets's make a sunburst visualization of this."
   ]
  },
  {
   "cell_type": "code",
   "execution_count": null,
   "id": "ad9deb29",
   "metadata": {},
   "outputs": [],
   "source": [
    "import plotly.express as px \n",
    "import plotly.graph_objects as go\n",
    "from plotly.subplots import make_subplots\n",
    "from plotly import graph_objects as go\n",
    "import plotly.figure_factory as ff\n",
    "from plotly.offline import init_notebook_mode,iplot"
   ]
  },
  {
   "cell_type": "code",
   "execution_count": null,
   "id": "750f0683",
   "metadata": {},
   "outputs": [],
   "source": [
    "sub_4[['Level','Affiliation']].value_counts().reset_index()"
   ]
  },
  {
   "cell_type": "code",
   "execution_count": null,
   "id": "99449f63",
   "metadata": {},
   "outputs": [],
   "source": [
    "run_lvl = pd.DataFrame(sub_4[['Level','Affiliation']].value_counts().reset_index())"
   ]
  },
  {
   "cell_type": "code",
   "execution_count": null,
   "id": "f44c2b11",
   "metadata": {},
   "outputs": [],
   "source": [
    "run_lvl.columns = ['Level', 'Affiliation','Runners']\n",
    "run_lvl"
   ]
  },
  {
   "cell_type": "code",
   "execution_count": null,
   "id": "3620b76f",
   "metadata": {},
   "outputs": [],
   "source": [
    "nested_pie =  run_lvl.sort_values('Runners', ascending=False).iloc[:]\n",
    "\n",
    "fig = px.sunburst(nested_pie, path=['Level','Affiliation'], values='Runners',\n",
    "                  color='Players',\n",
    "                  color_continuous_scale='rdbu',template=\"plotly_white\",\n",
    "                  )\n",
    "fig.update_layout(height=650, title = \"Sub-4 Milers By Level of Experience\" , title_x = 0.47,)\n",
    "fig.show()\n",
    "\n",
    "#fig.write_image('Run_Level_Sunburst.svg')"
   ]
  },
  {
   "cell_type": "markdown",
   "id": "4fc8543b",
   "metadata": {},
   "source": [
    "# What was the most common name of US Sub-4 Milers?"
   ]
  },
  {
   "cell_type": "code",
   "execution_count": null,
   "id": "854b530a",
   "metadata": {},
   "outputs": [],
   "source": [
    "from wordcloud import WordCloud, STOPWORDS, ImageColorGenerator"
   ]
  },
  {
   "cell_type": "markdown",
   "id": "39bd5a87",
   "metadata": {},
   "source": [
    "First Name"
   ]
  },
  {
   "cell_type": "code",
   "execution_count": null,
   "id": "b96dbd13",
   "metadata": {},
   "outputs": [],
   "source": [
    "FN = pd.DataFrame(sub_4.First_Name.value_counts().reset_index())\n",
    "FN.head()"
   ]
  },
  {
   "cell_type": "code",
   "execution_count": null,
   "id": "84db0de8",
   "metadata": {},
   "outputs": [],
   "source": [
    "FN.columns = ['First Name', 'Runners']\n",
    "FN.head()"
   ]
  },
  {
   "cell_type": "code",
   "execution_count": null,
   "id": "dbcfa288",
   "metadata": {},
   "outputs": [],
   "source": [
    "# Start with one review:\n",
    "text = sub_4.First_Name[:].dropna().to_list()\n",
    "text = \" \".join(text)\n",
    "# Create and generate a word cloud image:\n",
    "wordcloud = WordCloud(max_font_size=50, max_words=100, background_color=\"white\", regexp = r'\\S+').generate(text)\n",
    "\n",
    "# Display the generated image:\n",
    "plt.imshow(wordcloud, interpolation='bilinear')\n",
    "plt.axis(\"off\")\n",
    "plt.show()"
   ]
  },
  {
   "cell_type": "markdown",
   "id": "2775cc10",
   "metadata": {},
   "source": [
    "Last Name"
   ]
  },
  {
   "cell_type": "code",
   "execution_count": null,
   "id": "711fd9c6",
   "metadata": {},
   "outputs": [],
   "source": [
    "LN = pd.DataFrame(sub_4.Last_Name.value_counts().reset_index())\n",
    "LN.head()"
   ]
  },
  {
   "cell_type": "code",
   "execution_count": null,
   "id": "8f77ff12",
   "metadata": {},
   "outputs": [],
   "source": [
    "LN.columns = ['Last Name', 'Runners']\n",
    "LN.head()"
   ]
  },
  {
   "cell_type": "code",
   "execution_count": null,
   "id": "c5882d7f",
   "metadata": {},
   "outputs": [],
   "source": [
    "# Start with one review:\n",
    "text = sub_4.Last_Name[:].dropna().to_list()\n",
    "text = \" \".join(text)\n",
    "# Create and generate a word cloud image:\n",
    "wordcloud = WordCloud(max_font_size=50, max_words=100, background_color=\"white\", regexp = r'\\S+').generate(text)\n",
    "\n",
    "# Display the generated image:\n",
    "plt.imshow(wordcloud, interpolation='bilinear')\n",
    "plt.axis(\"off\")\n",
    "plt.show()"
   ]
  },
  {
   "cell_type": "markdown",
   "id": "834ff2e3",
   "metadata": {},
   "source": [
    "# Let's make an excel spreadsheet to export dataframes"
   ]
  },
  {
   "cell_type": "code",
   "execution_count": null,
   "id": "5c30ae85",
   "metadata": {},
   "outputs": [],
   "source": [
    "xlwriter = pd.ExcelWriter('US_Sub4_Analysis.xlsx')\n",
    "Month.to_excel(xlwriter, sheet_name='Sub-4 Miles By Month')\n",
    "Season.to_excel(xlwriter, sheet_name='Season')\n",
    "Year.to_excel(xlwriter, sheet_name='Sub-4 Miles By Year')\n",
    "avg_1st_sub4_yr.to_excel(xlwriter, sheet_name='Avg First Sub-4 Time By Year')\n",
    "avg_pr_yr.to_excel(xlwriter, sheet_name='Avg Mile PR By Year')\n",
    "Decade.to_excel(xlwriter, sheet_name='Sub-4 Miles By Decade')\n",
    "avg_1st_sub4_decade.to_excel(xlwriter, sheet_name='Avg First Sub-4 Time By Decade')\n",
    "avg_pr_decade.to_excel(xlwriter, sheet_name='Avg Mile PR By Decade')\n",
    "Location.to_excel(xlwriter, sheet_name='Sub-4 Miles By Location')\n",
    "avg_1st_sub4_loc.to_excel(xlwriter, sheet_name='Avg First Sub-4 Time By Location')\n",
    "State.to_excel(xlwriter, sheet_name='Sub-4 Miles By State')\n",
    "avg_1st_sub4_state.to_excel(xlwriter, sheet_name='Avg First Sub-4 Time By By State')\n",
    "avg_pr_state.to_excel(xlwriter, sheet_name='Avg Mile PR By State')\n",
    "Team.to_excel(xlwriter, sheet_name='Sub-4 Miles By Team')\n",
    "Level.to_excel(xlwriter, sheet_name='Experience Level')\n",
    "run_lvl.to_excel(xlwriter, sheet_name='Experience Level Part 2')\n",
    "Faster.to_excel(xlwriter, sheet_name='Milers That Improved')\n",
    "No_Improvement.to_excel(xlwriter, sheet_name='Milers With No Improvement')\n",
    "avg_1st_sub4.to_excel(xlwriter, sheet_name='Avg First Sub-4 Time By Team')\n",
    "avg_pr_team.to_excel(xlwriter, sheet_name='Avg Mile PR By Team')\n",
    "avg_first_pr.to_excel(xlwriter, sheet_name='Most Improved Team')\n",
    "FN.to_excel(xlwriter, sheet_name='First Name')\n",
    "LN.to_excel(xlwriter, sheet_name='Last Name')\n",
    "xlwriter.close()"
   ]
  },
  {
   "cell_type": "markdown",
   "id": "51cb3490",
   "metadata": {},
   "source": [
    "# Let's create some JSON files with the Data we have"
   ]
  },
  {
   "cell_type": "code",
   "execution_count": null,
   "id": "691b4216",
   "metadata": {},
   "outputs": [],
   "source": [
    "import json"
   ]
  },
  {
   "cell_type": "code",
   "execution_count": null,
   "id": "f3ac2e70",
   "metadata": {},
   "outputs": [],
   "source": [
    "Month_dict = Month.to_dict()\n",
    "Season_dict = Season.to_dict()\n",
    "Year_dict = Year.to_dict()\n",
    "avg_1st_sub4_yr_dict = avg_1st_sub4_yr.to_dict()\n",
    "avg_pr_yr_dict = avg_pr_yr.to_dict()\n",
    "Decade_dict = Decade.to_dict()\n",
    "avg_1st_sub4_decade_dict = avg_1st_sub4_decade.to_dict()\n",
    "avg_pr_decade_dict = avg_pr_decade.to_dict()\n",
    "Location_dict = Location.to_dict()\n",
    "avg_1st_sub4_loc_dict = avg_1st_sub4_loc.to_dict()\n",
    "State_dict = State.to_dict()\n",
    "avg_1st_sub4_state_dict = avg_1st_sub4_state.to_dict()\n",
    "avg_pr_state_dict = avg_pr_state.to_dict()\n",
    "Team_dict = Team.to_dict()\n",
    "Level_dict = Level.to_dict()\n",
    "run_lvl_dict = run_lvl.to_dict()\n",
    "avg_1st_sub4_dict = avg_1st_sub4.to_dict()\n",
    "avg_pr_team_dict = avg_pr_team.to_dict()\n",
    "avg_first_pr_dict = avg_first_pr.to_dict()\n",
    "FN_dict = FN.to_dict()\n",
    "LN_dict = LN.to_dict()"
   ]
  },
  {
   "cell_type": "code",
   "execution_count": null,
   "id": "3b90da5a",
   "metadata": {},
   "outputs": [],
   "source": [
    "with open('Month.json', 'w') as f:\n",
    "    json.dump(Month_dict, f)"
   ]
  },
  {
   "cell_type": "code",
   "execution_count": null,
   "id": "e8c9f36c",
   "metadata": {},
   "outputs": [],
   "source": [
    "with open('Season.json', 'w') as f:\n",
    "    json.dump(Season_dict, f)"
   ]
  },
  {
   "cell_type": "code",
   "execution_count": null,
   "id": "f41cb29f",
   "metadata": {},
   "outputs": [],
   "source": [
    "with open('Year.json', 'w') as f:\n",
    "    json.dump(Year_dict, f)"
   ]
  },
  {
   "cell_type": "code",
   "execution_count": null,
   "id": "912aa9cd",
   "metadata": {},
   "outputs": [],
   "source": [
    "with open('avg_1st_sub4_yr.json', 'w') as f:\n",
    "    json.dump(avg_1st_sub4_yr_dict, f)"
   ]
  },
  {
   "cell_type": "code",
   "execution_count": null,
   "id": "148c6737",
   "metadata": {},
   "outputs": [],
   "source": [
    "with open('avg_pr_yr.json', 'w') as f:\n",
    "    json.dump(avg_pr_yr_dict, f)"
   ]
  },
  {
   "cell_type": "code",
   "execution_count": null,
   "id": "8a9ed5b7",
   "metadata": {},
   "outputs": [],
   "source": [
    "with open('Decade.json', 'w') as f:\n",
    "    json.dump(Decade_dict, f)"
   ]
  },
  {
   "cell_type": "code",
   "execution_count": null,
   "id": "de73ecdc",
   "metadata": {},
   "outputs": [],
   "source": [
    "with open('avg_1st_sub4_decade.json', 'w') as f:\n",
    "    json.dump(avg_1st_sub4_decade_dict, f)"
   ]
  },
  {
   "cell_type": "code",
   "execution_count": null,
   "id": "18817505",
   "metadata": {},
   "outputs": [],
   "source": [
    "with open('avg_pr_decade.json', 'w') as f:\n",
    "    json.dump(avg_pr_decade_dict, f)"
   ]
  },
  {
   "cell_type": "code",
   "execution_count": null,
   "id": "f1c0b77b",
   "metadata": {},
   "outputs": [],
   "source": [
    "with open('Location.json', 'w') as f:\n",
    "    json.dump(Location_dict, f)"
   ]
  },
  {
   "cell_type": "code",
   "execution_count": null,
   "id": "b3519b7c",
   "metadata": {},
   "outputs": [],
   "source": [
    "with open('avg_1st_sub4_loc.json', 'w') as f:\n",
    "    json.dump(avg_1st_sub4_loc_dict, f)"
   ]
  },
  {
   "cell_type": "code",
   "execution_count": null,
   "id": "430a4364",
   "metadata": {},
   "outputs": [],
   "source": [
    "with open('State.json', 'w') as f:\n",
    "    json.dump(State_dict, f)"
   ]
  },
  {
   "cell_type": "code",
   "execution_count": null,
   "id": "f4c3f6ce",
   "metadata": {},
   "outputs": [],
   "source": [
    "with open('avg_1st_sub4_state.json', 'w') as f:\n",
    "    json.dump(avg_1st_sub4_state_dict, f)"
   ]
  },
  {
   "cell_type": "code",
   "execution_count": null,
   "id": "72e3e455",
   "metadata": {},
   "outputs": [],
   "source": [
    "with open('avg_pr_state.json', 'w') as f:\n",
    "    json.dump(avg_pr_state_dict, f)"
   ]
  },
  {
   "cell_type": "code",
   "execution_count": null,
   "id": "22c0ace4",
   "metadata": {},
   "outputs": [],
   "source": [
    "with open('Team.json', 'w') as f:\n",
    "    json.dump(Team_dict, f)"
   ]
  },
  {
   "cell_type": "code",
   "execution_count": null,
   "id": "645df920",
   "metadata": {},
   "outputs": [],
   "source": [
    "with open('Level.json', 'w') as f:\n",
    "    json.dump(Level_dict, f)"
   ]
  },
  {
   "cell_type": "code",
   "execution_count": null,
   "id": "154134db",
   "metadata": {},
   "outputs": [],
   "source": [
    "with open('run_lvl.json', 'w') as f:\n",
    "    json.dump(run_lvl_dict, f)"
   ]
  },
  {
   "cell_type": "code",
   "execution_count": null,
   "id": "e35f5202",
   "metadata": {},
   "outputs": [],
   "source": [
    "with open('avg_1st_sub4.json', 'w') as f:\n",
    "    json.dump(avg_1st_sub4_dict, f)"
   ]
  },
  {
   "cell_type": "code",
   "execution_count": null,
   "id": "3cb10395",
   "metadata": {},
   "outputs": [],
   "source": [
    "with open('avg_pr_team.json', 'w') as f:\n",
    "    json.dump(avg_pr_team_dict, f)"
   ]
  },
  {
   "cell_type": "code",
   "execution_count": null,
   "id": "97b90ce2",
   "metadata": {},
   "outputs": [],
   "source": [
    "with open('avg_first_pr.json', 'w') as f:\n",
    "    json.dump(avg_first_pr_dict, f)"
   ]
  },
  {
   "cell_type": "code",
   "execution_count": null,
   "id": "bf2e57c3",
   "metadata": {},
   "outputs": [],
   "source": [
    "with open('FN.json', 'w') as f:\n",
    "    json.dump(FN_dict, f)"
   ]
  },
  {
   "cell_type": "code",
   "execution_count": null,
   "id": "66b015bb",
   "metadata": {},
   "outputs": [],
   "source": [
    "with open('LN.json', 'w') as f:\n",
    "    json.dump(LN_dict, f)"
   ]
  }
 ],
 "metadata": {
  "kernelspec": {
   "display_name": "Python 3 (ipykernel)",
   "language": "python",
   "name": "python3"
  },
  "language_info": {
   "codemirror_mode": {
    "name": "ipython",
    "version": 3
   },
   "file_extension": ".py",
   "mimetype": "text/x-python",
   "name": "python",
   "nbconvert_exporter": "python",
   "pygments_lexer": "ipython3",
   "version": "3.9.16"
  }
 },
 "nbformat": 4,
 "nbformat_minor": 5
}
