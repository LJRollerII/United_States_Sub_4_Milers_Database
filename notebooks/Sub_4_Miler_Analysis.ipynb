{
 "cells": [
  {
   "cell_type": "code",
   "execution_count": 1,
   "id": "14c8f51c",
   "metadata": {},
   "outputs": [],
   "source": [
    "import pandas as pd\n",
    "import numpy as np\n",
    "import matplotlib.pyplot as plt\n",
    "import seaborn as sns"
   ]
  },
  {
   "cell_type": "code",
   "execution_count": 2,
   "id": "5b350b31",
   "metadata": {},
   "outputs": [],
   "source": [
    "%matplotlib inline"
   ]
  },
  {
   "cell_type": "code",
   "execution_count": 3,
   "id": "43655223",
   "metadata": {},
   "outputs": [],
   "source": [
    "import re"
   ]
  },
  {
   "cell_type": "code",
   "execution_count": 4,
   "id": "081be666",
   "metadata": {},
   "outputs": [],
   "source": [
    "sub_4 = pd.read_csv(\"../data/US_Sub4_Milers_Database.csv\")"
   ]
  },
  {
   "cell_type": "code",
   "execution_count": 5,
   "id": "3bb4ae58",
   "metadata": {},
   "outputs": [
    {
     "data": {
      "text/html": [
       "<div>\n",
       "<style scoped>\n",
       "    .dataframe tbody tr th:only-of-type {\n",
       "        vertical-align: middle;\n",
       "    }\n",
       "\n",
       "    .dataframe tbody tr th {\n",
       "        vertical-align: top;\n",
       "    }\n",
       "\n",
       "    .dataframe thead th {\n",
       "        text-align: right;\n",
       "    }\n",
       "</style>\n",
       "<table border=\"1\" class=\"dataframe\">\n",
       "  <thead>\n",
       "    <tr style=\"text-align: right;\">\n",
       "      <th></th>\n",
       "      <th>Year</th>\n",
       "      <th>Decade</th>\n",
       "      <th>Order</th>\n",
       "      <th>Name</th>\n",
       "      <th>Affiliation</th>\n",
       "      <th>Level</th>\n",
       "      <th>Time</th>\n",
       "      <th>Area</th>\n",
       "      <th>Location</th>\n",
       "      <th>State</th>\n",
       "      <th>Latitude</th>\n",
       "      <th>Longitude</th>\n",
       "      <th>Country</th>\n",
       "      <th>Date</th>\n",
       "      <th>Image</th>\n",
       "    </tr>\n",
       "  </thead>\n",
       "  <tbody>\n",
       "    <tr>\n",
       "      <th>0</th>\n",
       "      <td>1957</td>\n",
       "      <td>1950s</td>\n",
       "      <td>1</td>\n",
       "      <td>Don Bowden</td>\n",
       "      <td>Cal</td>\n",
       "      <td>College</td>\n",
       "      <td>03:58.7</td>\n",
       "      <td>Outdoor</td>\n",
       "      <td>Stockton</td>\n",
       "      <td>CA</td>\n",
       "      <td>37.9577</td>\n",
       "      <td>-121.2908</td>\n",
       "      <td>United States</td>\n",
       "      <td>1-Jun</td>\n",
       "      <td>https://x2.pac-12.com/cdn/ff/wtnbGV5PHzzf8m22I...</td>\n",
       "    </tr>\n",
       "    <tr>\n",
       "      <th>1</th>\n",
       "      <td>1960</td>\n",
       "      <td>1960s</td>\n",
       "      <td>2</td>\n",
       "      <td>Dyrol Burleson</td>\n",
       "      <td>Oregon</td>\n",
       "      <td>College</td>\n",
       "      <td>03:58.6</td>\n",
       "      <td>Outdoor</td>\n",
       "      <td>Eugene</td>\n",
       "      <td>OR</td>\n",
       "      <td>44.0521</td>\n",
       "      <td>-123.0868</td>\n",
       "      <td>United States</td>\n",
       "      <td>23-Apr</td>\n",
       "      <td>https://bringbackthemile.com/images/sized/imag...</td>\n",
       "    </tr>\n",
       "    <tr>\n",
       "      <th>2</th>\n",
       "      <td>1960</td>\n",
       "      <td>1960s</td>\n",
       "      <td>3</td>\n",
       "      <td>Jim Beatty</td>\n",
       "      <td>Santa Clara Valley Youth Village</td>\n",
       "      <td>Pro &amp; Open</td>\n",
       "      <td>03:58.0</td>\n",
       "      <td>Outdoor</td>\n",
       "      <td>Modesto</td>\n",
       "      <td>CA</td>\n",
       "      <td>37.6393</td>\n",
       "      <td>-120.9970</td>\n",
       "      <td>United States</td>\n",
       "      <td>28-May</td>\n",
       "      <td>https://trackandfieldnews.com/wp-content/uploa...</td>\n",
       "    </tr>\n",
       "    <tr>\n",
       "      <th>3</th>\n",
       "      <td>1962</td>\n",
       "      <td>1960s</td>\n",
       "      <td>4</td>\n",
       "      <td>Jim Grelle (Los Angeles TC)</td>\n",
       "      <td>Los Angeles TC</td>\n",
       "      <td>Pro &amp; Open</td>\n",
       "      <td>03:59.9</td>\n",
       "      <td>Outdoor</td>\n",
       "      <td>Walnut</td>\n",
       "      <td>CA</td>\n",
       "      <td>34.0203</td>\n",
       "      <td>-117.8653</td>\n",
       "      <td>United States</td>\n",
       "      <td>28-Apr</td>\n",
       "      <td>https://upload.wikimedia.org/wikipedia/commons...</td>\n",
       "    </tr>\n",
       "    <tr>\n",
       "      <th>4</th>\n",
       "      <td>1962</td>\n",
       "      <td>1960s</td>\n",
       "      <td>5</td>\n",
       "      <td>Keith Forman</td>\n",
       "      <td>Oregon</td>\n",
       "      <td>College</td>\n",
       "      <td>03:58.3</td>\n",
       "      <td>Outdoor</td>\n",
       "      <td>Modesto</td>\n",
       "      <td>CA</td>\n",
       "      <td>37.6393</td>\n",
       "      <td>-120.9970</td>\n",
       "      <td>United States</td>\n",
       "      <td>26-May</td>\n",
       "      <td>https://oregondigital.org/downloads/oregondigi...</td>\n",
       "    </tr>\n",
       "  </tbody>\n",
       "</table>\n",
       "</div>"
      ],
      "text/plain": [
       "   Year Decade  Order                         Name  \\\n",
       "0  1957  1950s      1                   Don Bowden   \n",
       "1  1960  1960s      2               Dyrol Burleson   \n",
       "2  1960  1960s      3                   Jim Beatty   \n",
       "3  1962  1960s      4  Jim Grelle (Los Angeles TC)   \n",
       "4  1962  1960s      5                Keith Forman    \n",
       "\n",
       "                        Affiliation       Level     Time     Area  Location  \\\n",
       "0                               Cal     College  03:58.7  Outdoor  Stockton   \n",
       "1                            Oregon     College  03:58.6  Outdoor    Eugene   \n",
       "2  Santa Clara Valley Youth Village  Pro & Open  03:58.0  Outdoor   Modesto   \n",
       "3                    Los Angeles TC  Pro & Open  03:59.9  Outdoor    Walnut   \n",
       "4                            Oregon     College  03:58.3  Outdoor   Modesto   \n",
       "\n",
       "  State  Latitude  Longitude        Country    Date  \\\n",
       "0    CA   37.9577  -121.2908  United States   1-Jun   \n",
       "1    OR   44.0521  -123.0868  United States  23-Apr   \n",
       "2    CA   37.6393  -120.9970  United States  28-May   \n",
       "3    CA   34.0203  -117.8653  United States  28-Apr   \n",
       "4    CA   37.6393  -120.9970  United States  26-May   \n",
       "\n",
       "                                               Image  \n",
       "0  https://x2.pac-12.com/cdn/ff/wtnbGV5PHzzf8m22I...  \n",
       "1  https://bringbackthemile.com/images/sized/imag...  \n",
       "2  https://trackandfieldnews.com/wp-content/uploa...  \n",
       "3  https://upload.wikimedia.org/wikipedia/commons...  \n",
       "4  https://oregondigital.org/downloads/oregondigi...  "
      ]
     },
     "execution_count": 5,
     "metadata": {},
     "output_type": "execute_result"
    }
   ],
   "source": [
    "sub_4.head()"
   ]
  },
  {
   "cell_type": "code",
   "execution_count": 6,
   "id": "75c8a174",
   "metadata": {},
   "outputs": [
    {
     "data": {
      "text/plain": [
       "<bound method DataFrame.info of      Year Decade  Order                         Name  \\\n",
       "0    1957  1950s      1                   Don Bowden   \n",
       "1    1960  1960s      2               Dyrol Burleson   \n",
       "2    1960  1960s      3                   Jim Beatty   \n",
       "3    1962  1960s      4  Jim Grelle (Los Angeles TC)   \n",
       "4    1962  1960s      5                Keith Forman    \n",
       "..    ...    ...    ...                          ...   \n",
       "654  2022  2020s    655         Rheinhardt Harrison    \n",
       "655  2022  2020s    656           Adam Bradtmueller    \n",
       "656  2022  2020s    657                   Luke Combs   \n",
       "657  2022  2020s    658               Joey Berriatua   \n",
       "658  2022  2020s    659             Simeon Birnbaum    \n",
       "\n",
       "                          Affiliation        Level     Time     Area  \\\n",
       "0                                 Cal      College  03:58.7  Outdoor   \n",
       "1                              Oregon      College  03:58.6  Outdoor   \n",
       "2    Santa Clara Valley Youth Village   Pro & Open  03:58.0  Outdoor   \n",
       "3                      Los Angeles TC   Pro & Open  03:59.9  Outdoor   \n",
       "4                              Oregon      College  03:58.3  Outdoor   \n",
       "..                                ...          ...      ...      ...   \n",
       "654                        Florida HS  High School  03:59.3  Outdoor   \n",
       "655                    East Tennessee      College  03:57.9  Outdoor   \n",
       "656                         Air Force      College  03:58.7  Outdoor   \n",
       "657                      Tinman Elite   Pro & Open  03:58.8  Outdoor   \n",
       "658                   South Dakota HS  High School  03:59.5  Outdoor   \n",
       "\n",
       "      Location State  Latitude  Longitude        Country    Date  \\\n",
       "0     Stockton    CA   37.9577  -121.2908  United States   1-Jun   \n",
       "1       Eugene    OR   44.0521  -123.0868  United States  23-Apr   \n",
       "2      Modesto    CA   37.6393  -120.9970  United States  28-May   \n",
       "3       Walnut    CA   34.0203  -117.8653  United States  28-Apr   \n",
       "4      Modesto    CA   37.6393  -120.9970  United States  26-May   \n",
       "..         ...   ...       ...        ...            ...     ...   \n",
       "654  Gibsonton    FL   27.8536   -82.3826  United States   3-Jun   \n",
       "655  Nashville    TN   36.1627   -86.7816  United States   5-Jun   \n",
       "656  Nashville    TN   36.1627   -86.7816  United States   5-Jun   \n",
       "657  Nashville    TN   36.1627   -86.7816  United States   5-Jun   \n",
       "658    Seattle    WA   47.6062  -122.3321  United States  15-Jun   \n",
       "\n",
       "                                                 Image  \n",
       "0    https://x2.pac-12.com/cdn/ff/wtnbGV5PHzzf8m22I...  \n",
       "1    https://bringbackthemile.com/images/sized/imag...  \n",
       "2    https://trackandfieldnews.com/wp-content/uploa...  \n",
       "3    https://upload.wikimedia.org/wikipedia/commons...  \n",
       "4    https://oregondigital.org/downloads/oregondigi...  \n",
       "..                                                 ...  \n",
       "654  https://www.gannett-cdn.com/presto/2021/03/20/...  \n",
       "655  https://bloximages.newyork1.vip.townnews.com/j...  \n",
       "656  https://dbukjj6eu5tsf.cloudfront.net/goairforc...  \n",
       "657  https://pbs.twimg.com/profile_images/133397687...  \n",
       "658  https://cdn.forumcomm.com/dims4/default/45abd2...  \n",
       "\n",
       "[659 rows x 15 columns]>"
      ]
     },
     "execution_count": 6,
     "metadata": {},
     "output_type": "execute_result"
    }
   ],
   "source": [
    "sub_4.info"
   ]
  },
  {
   "cell_type": "code",
   "execution_count": 7,
   "id": "440dcb0a",
   "metadata": {},
   "outputs": [
    {
     "data": {
      "text/plain": [
       "(659, 15)"
      ]
     },
     "execution_count": 7,
     "metadata": {},
     "output_type": "execute_result"
    }
   ],
   "source": [
    "sub_4.shape"
   ]
  },
  {
   "cell_type": "code",
   "execution_count": 8,
   "id": "0fbbecbb",
   "metadata": {},
   "outputs": [
    {
     "name": "stdout",
     "output_type": "stream",
     "text": [
      "Year             int64\n",
      "Decade          object\n",
      "Order            int64\n",
      "Name            object\n",
      "Affiliation     object\n",
      "Level           object\n",
      "Time            object\n",
      "Area            object\n",
      "Location        object\n",
      "State           object\n",
      "Latitude       float64\n",
      "Longitude      float64\n",
      "Country         object\n",
      "Date            object\n",
      "Image           object\n",
      "dtype: object\n"
     ]
    }
   ],
   "source": [
    "print(sub_4.dtypes)"
   ]
  },
  {
   "cell_type": "code",
   "execution_count": 9,
   "id": "2015c5f0",
   "metadata": {},
   "outputs": [
    {
     "data": {
      "text/html": [
       "<div>\n",
       "<style scoped>\n",
       "    .dataframe tbody tr th:only-of-type {\n",
       "        vertical-align: middle;\n",
       "    }\n",
       "\n",
       "    .dataframe tbody tr th {\n",
       "        vertical-align: top;\n",
       "    }\n",
       "\n",
       "    .dataframe thead th {\n",
       "        text-align: right;\n",
       "    }\n",
       "</style>\n",
       "<table border=\"1\" class=\"dataframe\">\n",
       "  <thead>\n",
       "    <tr style=\"text-align: right;\">\n",
       "      <th></th>\n",
       "      <th>Year</th>\n",
       "      <th>Order</th>\n",
       "      <th>Latitude</th>\n",
       "      <th>Longitude</th>\n",
       "    </tr>\n",
       "  </thead>\n",
       "  <tbody>\n",
       "    <tr>\n",
       "      <th>count</th>\n",
       "      <td>659.000000</td>\n",
       "      <td>659.000000</td>\n",
       "      <td>659.000000</td>\n",
       "      <td>659.000000</td>\n",
       "    </tr>\n",
       "    <tr>\n",
       "      <th>mean</th>\n",
       "      <td>2002.852807</td>\n",
       "      <td>330.000000</td>\n",
       "      <td>41.023717</td>\n",
       "      <td>-92.034083</td>\n",
       "    </tr>\n",
       "    <tr>\n",
       "      <th>std</th>\n",
       "      <td>17.641341</td>\n",
       "      <td>190.381197</td>\n",
       "      <td>6.023475</td>\n",
       "      <td>30.019016</td>\n",
       "    </tr>\n",
       "    <tr>\n",
       "      <th>min</th>\n",
       "      <td>1957.000000</td>\n",
       "      <td>1.000000</td>\n",
       "      <td>-39.933100</td>\n",
       "      <td>-123.262000</td>\n",
       "    </tr>\n",
       "    <tr>\n",
       "      <th>25%</th>\n",
       "      <td>1989.000000</td>\n",
       "      <td>165.500000</td>\n",
       "      <td>37.229600</td>\n",
       "      <td>-122.273000</td>\n",
       "    </tr>\n",
       "    <tr>\n",
       "      <th>50%</th>\n",
       "      <td>2010.000000</td>\n",
       "      <td>330.000000</td>\n",
       "      <td>41.705600</td>\n",
       "      <td>-86.781600</td>\n",
       "    </tr>\n",
       "    <tr>\n",
       "      <th>75%</th>\n",
       "      <td>2018.000000</td>\n",
       "      <td>494.500000</td>\n",
       "      <td>44.052100</td>\n",
       "      <td>-75.165200</td>\n",
       "    </tr>\n",
       "    <tr>\n",
       "      <th>max</th>\n",
       "      <td>2022.000000</td>\n",
       "      <td>659.000000</td>\n",
       "      <td>59.913900</td>\n",
       "      <td>175.028600</td>\n",
       "    </tr>\n",
       "  </tbody>\n",
       "</table>\n",
       "</div>"
      ],
      "text/plain": [
       "              Year       Order    Latitude   Longitude\n",
       "count   659.000000  659.000000  659.000000  659.000000\n",
       "mean   2002.852807  330.000000   41.023717  -92.034083\n",
       "std      17.641341  190.381197    6.023475   30.019016\n",
       "min    1957.000000    1.000000  -39.933100 -123.262000\n",
       "25%    1989.000000  165.500000   37.229600 -122.273000\n",
       "50%    2010.000000  330.000000   41.705600  -86.781600\n",
       "75%    2018.000000  494.500000   44.052100  -75.165200\n",
       "max    2022.000000  659.000000   59.913900  175.028600"
      ]
     },
     "execution_count": 9,
     "metadata": {},
     "output_type": "execute_result"
    }
   ],
   "source": [
    "sub_4.describe()"
   ]
  },
  {
   "cell_type": "code",
   "execution_count": 10,
   "id": "a3a369a1",
   "metadata": {
    "scrolled": true
   },
   "outputs": [
    {
     "data": {
      "text/plain": [
       "<bound method DataFrame.corr of      Year Decade  Order                         Name  \\\n",
       "0    1957  1950s      1                   Don Bowden   \n",
       "1    1960  1960s      2               Dyrol Burleson   \n",
       "2    1960  1960s      3                   Jim Beatty   \n",
       "3    1962  1960s      4  Jim Grelle (Los Angeles TC)   \n",
       "4    1962  1960s      5                Keith Forman    \n",
       "..    ...    ...    ...                          ...   \n",
       "654  2022  2020s    655         Rheinhardt Harrison    \n",
       "655  2022  2020s    656           Adam Bradtmueller    \n",
       "656  2022  2020s    657                   Luke Combs   \n",
       "657  2022  2020s    658               Joey Berriatua   \n",
       "658  2022  2020s    659             Simeon Birnbaum    \n",
       "\n",
       "                          Affiliation        Level     Time     Area  \\\n",
       "0                                 Cal      College  03:58.7  Outdoor   \n",
       "1                              Oregon      College  03:58.6  Outdoor   \n",
       "2    Santa Clara Valley Youth Village   Pro & Open  03:58.0  Outdoor   \n",
       "3                      Los Angeles TC   Pro & Open  03:59.9  Outdoor   \n",
       "4                              Oregon      College  03:58.3  Outdoor   \n",
       "..                                ...          ...      ...      ...   \n",
       "654                        Florida HS  High School  03:59.3  Outdoor   \n",
       "655                    East Tennessee      College  03:57.9  Outdoor   \n",
       "656                         Air Force      College  03:58.7  Outdoor   \n",
       "657                      Tinman Elite   Pro & Open  03:58.8  Outdoor   \n",
       "658                   South Dakota HS  High School  03:59.5  Outdoor   \n",
       "\n",
       "      Location State  Latitude  Longitude        Country    Date  \\\n",
       "0     Stockton    CA   37.9577  -121.2908  United States   1-Jun   \n",
       "1       Eugene    OR   44.0521  -123.0868  United States  23-Apr   \n",
       "2      Modesto    CA   37.6393  -120.9970  United States  28-May   \n",
       "3       Walnut    CA   34.0203  -117.8653  United States  28-Apr   \n",
       "4      Modesto    CA   37.6393  -120.9970  United States  26-May   \n",
       "..         ...   ...       ...        ...            ...     ...   \n",
       "654  Gibsonton    FL   27.8536   -82.3826  United States   3-Jun   \n",
       "655  Nashville    TN   36.1627   -86.7816  United States   5-Jun   \n",
       "656  Nashville    TN   36.1627   -86.7816  United States   5-Jun   \n",
       "657  Nashville    TN   36.1627   -86.7816  United States   5-Jun   \n",
       "658    Seattle    WA   47.6062  -122.3321  United States  15-Jun   \n",
       "\n",
       "                                                 Image  \n",
       "0    https://x2.pac-12.com/cdn/ff/wtnbGV5PHzzf8m22I...  \n",
       "1    https://bringbackthemile.com/images/sized/imag...  \n",
       "2    https://trackandfieldnews.com/wp-content/uploa...  \n",
       "3    https://upload.wikimedia.org/wikipedia/commons...  \n",
       "4    https://oregondigital.org/downloads/oregondigi...  \n",
       "..                                                 ...  \n",
       "654  https://www.gannett-cdn.com/presto/2021/03/20/...  \n",
       "655  https://bloximages.newyork1.vip.townnews.com/j...  \n",
       "656  https://dbukjj6eu5tsf.cloudfront.net/goairforc...  \n",
       "657  https://pbs.twimg.com/profile_images/133397687...  \n",
       "658  https://cdn.forumcomm.com/dims4/default/45abd2...  \n",
       "\n",
       "[659 rows x 15 columns]>"
      ]
     },
     "execution_count": 10,
     "metadata": {},
     "output_type": "execute_result"
    }
   ],
   "source": [
    "sub_4.corr"
   ]
  },
  {
   "cell_type": "markdown",
   "id": "8979375b",
   "metadata": {},
   "source": [
    "We'll need to convert the Time column from object to float"
   ]
  },
  {
   "cell_type": "code",
   "execution_count": null,
   "id": "aeab1ceb",
   "metadata": {},
   "outputs": [],
   "source": [
    "#sub_4 = sub_4.astype({\"Time\": float})"
   ]
  },
  {
   "cell_type": "code",
   "execution_count": null,
   "id": "01b5fba2",
   "metadata": {},
   "outputs": [],
   "source": [
    "#print(sub_4.dtypes)"
   ]
  },
  {
   "cell_type": "markdown",
   "id": "e2c3b668",
   "metadata": {},
   "source": [
    "Let's also make a separate column for the months"
   ]
  },
  {
   "cell_type": "code",
   "execution_count": null,
   "id": "1746e9d2",
   "metadata": {
    "scrolled": true
   },
   "outputs": [],
   "source": [
    "#sub_4['Month'] = sub_4.Date.str[:]\n",
    "#sub_4.head()"
   ]
  },
  {
   "cell_type": "code",
   "execution_count": null,
   "id": "2070ea42",
   "metadata": {},
   "outputs": [],
   "source": [
    "#sub_4['Month'] = sub_4['Date'].str.extract('(\\D{2})')"
   ]
  },
  {
   "cell_type": "markdown",
   "id": "90da0f70",
   "metadata": {},
   "source": [
    "Let's see what months are in the database"
   ]
  },
  {
   "cell_type": "code",
   "execution_count": null,
   "id": "60109677",
   "metadata": {},
   "outputs": [],
   "source": [
    "sub_4.Month.value_counts()"
   ]
  },
  {
   "cell_type": "markdown",
   "id": "58f89f0a",
   "metadata": {},
   "source": [
    "Now let's rename the month's to it's full name (Except May)"
   ]
  },
  {
   "cell_type": "code",
   "execution_count": null,
   "id": "8ec13a5c",
   "metadata": {},
   "outputs": [],
   "source": [
    "#sub_4['Month'].replace({\"Jan\" : \"January\", 'Feb':\"February\",'Mar':\"March\",'Apr':\"April\",'Jun':\"June\",'Jul':\"July\",'Aug':\"August\",'Sep':\"September\",'Oct':\"October\",'Nov':\"November\",'Dec':\"December\"}, inplace=True)\n",
    "sub_4.head()"
   ]
  },
  {
   "cell_type": "markdown",
   "id": "9443c081",
   "metadata": {},
   "source": [
    "Let's find what the average sub-4 miletime is for all the runners."
   ]
  },
  {
   "cell_type": "code",
   "execution_count": null,
   "id": "834abb5f",
   "metadata": {},
   "outputs": [],
   "source": [
    "#sub_4.Time.mean()"
   ]
  },
  {
   "cell_type": "code",
   "execution_count": null,
   "id": "f73a5900",
   "metadata": {},
   "outputs": [],
   "source": [
    "#"
   ]
  },
  {
   "cell_type": "markdown",
   "id": "8398ed42",
   "metadata": {},
   "source": [
    "Let's see how many Sub-4 miles were run indoors compared to outdoors and make a dataframe."
   ]
  },
  {
   "cell_type": "code",
   "execution_count": 11,
   "id": "2cf691fc",
   "metadata": {},
   "outputs": [
    {
     "data": {
      "text/plain": [
       "Indoor     355\n",
       "Outdoor    304\n",
       "Name: Area, dtype: int64"
      ]
     },
     "execution_count": 11,
     "metadata": {},
     "output_type": "execute_result"
    }
   ],
   "source": [
    "sub_4.Area.value_counts()"
   ]
  },
  {
   "cell_type": "code",
   "execution_count": 12,
   "id": "abc64d51",
   "metadata": {},
   "outputs": [
    {
     "data": {
      "image/png": "[encoded data removed]",
      "text/plain": [
       "<Figure size 432x288 with 1 Axes>"
      ]
     },
     "metadata": {},
     "output_type": "display_data"
    }
   ],
   "source": [
    "plt.pie(sub_4.Area.value_counts())\n",
    "plt.show()"
   ]
  },
  {
   "cell_type": "code",
   "execution_count": 13,
   "id": "fb027ff5",
   "metadata": {},
   "outputs": [
    {
     "data": {
      "text/html": [
       "<div>\n",
       "<style scoped>\n",
       "    .dataframe tbody tr th:only-of-type {\n",
       "        vertical-align: middle;\n",
       "    }\n",
       "\n",
       "    .dataframe tbody tr th {\n",
       "        vertical-align: top;\n",
       "    }\n",
       "\n",
       "    .dataframe thead th {\n",
       "        text-align: right;\n",
       "    }\n",
       "</style>\n",
       "<table border=\"1\" class=\"dataframe\">\n",
       "  <thead>\n",
       "    <tr style=\"text-align: right;\">\n",
       "      <th></th>\n",
       "      <th>index</th>\n",
       "      <th>Area</th>\n",
       "    </tr>\n",
       "  </thead>\n",
       "  <tbody>\n",
       "    <tr>\n",
       "      <th>0</th>\n",
       "      <td>Indoor</td>\n",
       "      <td>355</td>\n",
       "    </tr>\n",
       "    <tr>\n",
       "      <th>1</th>\n",
       "      <td>Outdoor</td>\n",
       "      <td>304</td>\n",
       "    </tr>\n",
       "  </tbody>\n",
       "</table>\n",
       "</div>"
      ],
      "text/plain": [
       "     index  Area\n",
       "0   Indoor   355\n",
       "1  Outdoor   304"
      ]
     },
     "execution_count": 13,
     "metadata": {},
     "output_type": "execute_result"
    }
   ],
   "source": [
    "Season = pd.DataFrame(sub_4.Area.value_counts().reset_index())\n",
    "Season.head()"
   ]
  },
  {
   "cell_type": "code",
   "execution_count": 14,
   "id": "aa8f5579",
   "metadata": {},
   "outputs": [
    {
     "data": {
      "text/html": [
       "<div>\n",
       "<style scoped>\n",
       "    .dataframe tbody tr th:only-of-type {\n",
       "        vertical-align: middle;\n",
       "    }\n",
       "\n",
       "    .dataframe tbody tr th {\n",
       "        vertical-align: top;\n",
       "    }\n",
       "\n",
       "    .dataframe thead th {\n",
       "        text-align: right;\n",
       "    }\n",
       "</style>\n",
       "<table border=\"1\" class=\"dataframe\">\n",
       "  <thead>\n",
       "    <tr style=\"text-align: right;\">\n",
       "      <th></th>\n",
       "      <th>Season</th>\n",
       "      <th>Sub-4 Miles</th>\n",
       "    </tr>\n",
       "  </thead>\n",
       "  <tbody>\n",
       "    <tr>\n",
       "      <th>0</th>\n",
       "      <td>Indoor</td>\n",
       "      <td>355</td>\n",
       "    </tr>\n",
       "    <tr>\n",
       "      <th>1</th>\n",
       "      <td>Outdoor</td>\n",
       "      <td>304</td>\n",
       "    </tr>\n",
       "  </tbody>\n",
       "</table>\n",
       "</div>"
      ],
      "text/plain": [
       "    Season  Sub-4 Miles\n",
       "0   Indoor          355\n",
       "1  Outdoor          304"
      ]
     },
     "execution_count": 14,
     "metadata": {},
     "output_type": "execute_result"
    }
   ],
   "source": [
    "Season.columns = ['Season', 'Sub-4 Miles']\n",
    "Season.head()"
   ]
  },
  {
   "cell_type": "code",
   "execution_count": 15,
   "id": "393d3b8a",
   "metadata": {
    "scrolled": true
   },
   "outputs": [
    {
     "data": {
      "text/html": [
       "<div>\n",
       "<style scoped>\n",
       "    .dataframe tbody tr th:only-of-type {\n",
       "        vertical-align: middle;\n",
       "    }\n",
       "\n",
       "    .dataframe tbody tr th {\n",
       "        vertical-align: top;\n",
       "    }\n",
       "\n",
       "    .dataframe thead th {\n",
       "        text-align: right;\n",
       "    }\n",
       "</style>\n",
       "<table border=\"1\" class=\"dataframe\">\n",
       "  <thead>\n",
       "    <tr style=\"text-align: right;\">\n",
       "      <th></th>\n",
       "      <th>Season</th>\n",
       "      <th>Sub-4 Miles</th>\n",
       "      <th>Percent</th>\n",
       "    </tr>\n",
       "  </thead>\n",
       "  <tbody>\n",
       "    <tr>\n",
       "      <th>0</th>\n",
       "      <td>Indoor</td>\n",
       "      <td>355</td>\n",
       "      <td>53.9</td>\n",
       "    </tr>\n",
       "    <tr>\n",
       "      <th>1</th>\n",
       "      <td>Outdoor</td>\n",
       "      <td>304</td>\n",
       "      <td>46.1</td>\n",
       "    </tr>\n",
       "  </tbody>\n",
       "</table>\n",
       "</div>"
      ],
      "text/plain": [
       "    Season  Sub-4 Miles  Percent\n",
       "0   Indoor          355     53.9\n",
       "1  Outdoor          304     46.1"
      ]
     },
     "execution_count": 15,
     "metadata": {},
     "output_type": "execute_result"
    }
   ],
   "source": [
    "Season['Percent'] = round((Season['Sub-4 Miles'] / 659) * 100,1)\n",
    "Season.head()"
   ]
  },
  {
   "cell_type": "markdown",
   "id": "356a6786",
   "metadata": {},
   "source": [
    "What year did the most Americans run under 4 minutes?"
   ]
  },
  {
   "cell_type": "code",
   "execution_count": 16,
   "id": "48a0f16e",
   "metadata": {},
   "outputs": [
    {
     "data": {
      "text/plain": [
       "2022    60\n",
       "2021    36\n",
       "2018    29\n",
       "2016    27\n",
       "2015    24\n",
       "        ..\n",
       "1960     2\n",
       "1996     2\n",
       "1965     1\n",
       "1963     1\n",
       "1957     1\n",
       "Name: Year, Length: 63, dtype: int64"
      ]
     },
     "execution_count": 16,
     "metadata": {},
     "output_type": "execute_result"
    }
   ],
   "source": [
    "sub_4.Year.value_counts()"
   ]
  },
  {
   "cell_type": "code",
   "execution_count": 17,
   "id": "f697b1fd",
   "metadata": {},
   "outputs": [
    {
     "data": {
      "text/html": [
       "<div>\n",
       "<style scoped>\n",
       "    .dataframe tbody tr th:only-of-type {\n",
       "        vertical-align: middle;\n",
       "    }\n",
       "\n",
       "    .dataframe tbody tr th {\n",
       "        vertical-align: top;\n",
       "    }\n",
       "\n",
       "    .dataframe thead th {\n",
       "        text-align: right;\n",
       "    }\n",
       "</style>\n",
       "<table border=\"1\" class=\"dataframe\">\n",
       "  <thead>\n",
       "    <tr style=\"text-align: right;\">\n",
       "      <th></th>\n",
       "      <th>index</th>\n",
       "      <th>Year</th>\n",
       "    </tr>\n",
       "  </thead>\n",
       "  <tbody>\n",
       "    <tr>\n",
       "      <th>0</th>\n",
       "      <td>2022</td>\n",
       "      <td>60</td>\n",
       "    </tr>\n",
       "    <tr>\n",
       "      <th>1</th>\n",
       "      <td>2021</td>\n",
       "      <td>36</td>\n",
       "    </tr>\n",
       "    <tr>\n",
       "      <th>2</th>\n",
       "      <td>2018</td>\n",
       "      <td>29</td>\n",
       "    </tr>\n",
       "    <tr>\n",
       "      <th>3</th>\n",
       "      <td>2016</td>\n",
       "      <td>27</td>\n",
       "    </tr>\n",
       "    <tr>\n",
       "      <th>4</th>\n",
       "      <td>2015</td>\n",
       "      <td>24</td>\n",
       "    </tr>\n",
       "  </tbody>\n",
       "</table>\n",
       "</div>"
      ],
      "text/plain": [
       "   index  Year\n",
       "0   2022    60\n",
       "1   2021    36\n",
       "2   2018    29\n",
       "3   2016    27\n",
       "4   2015    24"
      ]
     },
     "execution_count": 17,
     "metadata": {},
     "output_type": "execute_result"
    }
   ],
   "source": [
    "Year = pd.DataFrame(sub_4.Year.value_counts().reset_index())\n",
    "Year.head()"
   ]
  },
  {
   "cell_type": "code",
   "execution_count": 18,
   "id": "4e80cdbe",
   "metadata": {},
   "outputs": [
    {
     "data": {
      "text/html": [
       "<div>\n",
       "<style scoped>\n",
       "    .dataframe tbody tr th:only-of-type {\n",
       "        vertical-align: middle;\n",
       "    }\n",
       "\n",
       "    .dataframe tbody tr th {\n",
       "        vertical-align: top;\n",
       "    }\n",
       "\n",
       "    .dataframe thead th {\n",
       "        text-align: right;\n",
       "    }\n",
       "</style>\n",
       "<table border=\"1\" class=\"dataframe\">\n",
       "  <thead>\n",
       "    <tr style=\"text-align: right;\">\n",
       "      <th></th>\n",
       "      <th>Year</th>\n",
       "      <th>Runners Under 4</th>\n",
       "    </tr>\n",
       "  </thead>\n",
       "  <tbody>\n",
       "    <tr>\n",
       "      <th>0</th>\n",
       "      <td>2022</td>\n",
       "      <td>60</td>\n",
       "    </tr>\n",
       "    <tr>\n",
       "      <th>1</th>\n",
       "      <td>2021</td>\n",
       "      <td>36</td>\n",
       "    </tr>\n",
       "    <tr>\n",
       "      <th>2</th>\n",
       "      <td>2018</td>\n",
       "      <td>29</td>\n",
       "    </tr>\n",
       "    <tr>\n",
       "      <th>3</th>\n",
       "      <td>2016</td>\n",
       "      <td>27</td>\n",
       "    </tr>\n",
       "    <tr>\n",
       "      <th>4</th>\n",
       "      <td>2015</td>\n",
       "      <td>24</td>\n",
       "    </tr>\n",
       "  </tbody>\n",
       "</table>\n",
       "</div>"
      ],
      "text/plain": [
       "   Year  Runners Under 4\n",
       "0  2022               60\n",
       "1  2021               36\n",
       "2  2018               29\n",
       "3  2016               27\n",
       "4  2015               24"
      ]
     },
     "execution_count": 18,
     "metadata": {},
     "output_type": "execute_result"
    }
   ],
   "source": [
    "Year.columns = ['Year', 'Runners Under 4']\n",
    "Year.head()"
   ]
  },
  {
   "cell_type": "code",
   "execution_count": 19,
   "id": "4dc727ee",
   "metadata": {},
   "outputs": [
    {
     "data": {
      "text/html": [
       "<div>\n",
       "<style scoped>\n",
       "    .dataframe tbody tr th:only-of-type {\n",
       "        vertical-align: middle;\n",
       "    }\n",
       "\n",
       "    .dataframe tbody tr th {\n",
       "        vertical-align: top;\n",
       "    }\n",
       "\n",
       "    .dataframe thead th {\n",
       "        text-align: right;\n",
       "    }\n",
       "</style>\n",
       "<table border=\"1\" class=\"dataframe\">\n",
       "  <thead>\n",
       "    <tr style=\"text-align: right;\">\n",
       "      <th></th>\n",
       "      <th>Year</th>\n",
       "      <th>Runners Under 4</th>\n",
       "      <th>Percent</th>\n",
       "    </tr>\n",
       "  </thead>\n",
       "  <tbody>\n",
       "    <tr>\n",
       "      <th>0</th>\n",
       "      <td>2022</td>\n",
       "      <td>60</td>\n",
       "      <td>9.1</td>\n",
       "    </tr>\n",
       "    <tr>\n",
       "      <th>1</th>\n",
       "      <td>2021</td>\n",
       "      <td>36</td>\n",
       "      <td>5.5</td>\n",
       "    </tr>\n",
       "    <tr>\n",
       "      <th>2</th>\n",
       "      <td>2018</td>\n",
       "      <td>29</td>\n",
       "      <td>4.4</td>\n",
       "    </tr>\n",
       "    <tr>\n",
       "      <th>3</th>\n",
       "      <td>2016</td>\n",
       "      <td>27</td>\n",
       "      <td>4.1</td>\n",
       "    </tr>\n",
       "    <tr>\n",
       "      <th>4</th>\n",
       "      <td>2015</td>\n",
       "      <td>24</td>\n",
       "      <td>3.6</td>\n",
       "    </tr>\n",
       "  </tbody>\n",
       "</table>\n",
       "</div>"
      ],
      "text/plain": [
       "   Year  Runners Under 4  Percent\n",
       "0  2022               60      9.1\n",
       "1  2021               36      5.5\n",
       "2  2018               29      4.4\n",
       "3  2016               27      4.1\n",
       "4  2015               24      3.6"
      ]
     },
     "execution_count": 19,
     "metadata": {},
     "output_type": "execute_result"
    }
   ],
   "source": [
    "Year['Percent'] = round((Year['Runners Under 4'] / 659) * 100,1)\n",
    "Year.head()"
   ]
  },
  {
   "cell_type": "code",
   "execution_count": 20,
   "id": "42644528",
   "metadata": {},
   "outputs": [
    {
     "name": "stderr",
     "output_type": "stream",
     "text": [
      "C:\\Users\\ljcoo\\anaconda3\\lib\\site-packages\\seaborn\\_decorators.py:36: FutureWarning: Pass the following variables as keyword args: x, y. From version 0.12, the only valid positional argument will be `data`, and passing other arguments without an explicit keyword will result in an error or misinterpretation.\n",
      "  warnings.warn(\n"
     ]
    },
    {
     "data": {
      "text/plain": [
       "Text(0, 0.5, 'Runners Under 4')"
      ]
     },
     "execution_count": 20,
     "metadata": {},
     "output_type": "execute_result"
    },
    {
     "data": {
      "image/png": "[encoded data removed]",
      "text/plain": [
       "<Figure size 432x288 with 1 Axes>"
      ]
     },
     "metadata": {
      "needs_background": "light"
     },
     "output_type": "display_data"
    }
   ],
   "source": [
    "sns.lineplot(Year.Year, Year['Runners Under 4'])\n",
    "plt.title('Runners under 4 minutes in the Mile by Year')\n",
    "plt.xlabel('Year')\n",
    "plt.ylabel('Runners Under 4')"
   ]
  },
  {
   "cell_type": "code",
   "execution_count": 21,
   "id": "b7694c36",
   "metadata": {},
   "outputs": [
    {
     "data": {
      "text/html": [
       "<div>\n",
       "<style scoped>\n",
       "    .dataframe tbody tr th:only-of-type {\n",
       "        vertical-align: middle;\n",
       "    }\n",
       "\n",
       "    .dataframe tbody tr th {\n",
       "        vertical-align: top;\n",
       "    }\n",
       "\n",
       "    .dataframe thead th {\n",
       "        text-align: right;\n",
       "    }\n",
       "</style>\n",
       "<table border=\"1\" class=\"dataframe\">\n",
       "  <thead>\n",
       "    <tr style=\"text-align: right;\">\n",
       "      <th></th>\n",
       "      <th>Year</th>\n",
       "      <th>Runners Under 4</th>\n",
       "      <th>Percent</th>\n",
       "    </tr>\n",
       "  </thead>\n",
       "  <tbody>\n",
       "    <tr>\n",
       "      <th>0</th>\n",
       "      <td>2022</td>\n",
       "      <td>60</td>\n",
       "      <td>9.1</td>\n",
       "    </tr>\n",
       "    <tr>\n",
       "      <th>1</th>\n",
       "      <td>2021</td>\n",
       "      <td>36</td>\n",
       "      <td>5.5</td>\n",
       "    </tr>\n",
       "    <tr>\n",
       "      <th>2</th>\n",
       "      <td>2018</td>\n",
       "      <td>29</td>\n",
       "      <td>4.4</td>\n",
       "    </tr>\n",
       "    <tr>\n",
       "      <th>3</th>\n",
       "      <td>2016</td>\n",
       "      <td>27</td>\n",
       "      <td>4.1</td>\n",
       "    </tr>\n",
       "    <tr>\n",
       "      <th>4</th>\n",
       "      <td>2015</td>\n",
       "      <td>24</td>\n",
       "      <td>3.6</td>\n",
       "    </tr>\n",
       "  </tbody>\n",
       "</table>\n",
       "</div>"
      ],
      "text/plain": [
       "   Year  Runners Under 4  Percent\n",
       "0  2022               60      9.1\n",
       "1  2021               36      5.5\n",
       "2  2018               29      4.4\n",
       "3  2016               27      4.1\n",
       "4  2015               24      3.6"
      ]
     },
     "execution_count": 21,
     "metadata": {},
     "output_type": "execute_result"
    }
   ],
   "source": [
    "top5_years = Year.nlargest(5,'Runners Under 4')\n",
    "top5_years.head()"
   ]
  },
  {
   "cell_type": "code",
   "execution_count": 22,
   "id": "07384cff",
   "metadata": {},
   "outputs": [
    {
     "name": "stderr",
     "output_type": "stream",
     "text": [
      "C:\\Users\\ljcoo\\anaconda3\\lib\\site-packages\\seaborn\\_decorators.py:36: FutureWarning: Pass the following variables as keyword args: x, y. From version 0.12, the only valid positional argument will be `data`, and passing other arguments without an explicit keyword will result in an error or misinterpretation.\n",
      "  warnings.warn(\n"
     ]
    },
    {
     "data": {
      "text/plain": [
       "Text(0, 0.5, 'Runners Under 4')"
      ]
     },
     "execution_count": 22,
     "metadata": {},
     "output_type": "execute_result"
    },
    {
     "data": {
      "image/png": "[encoded data removed]",
      "text/plain": [
       "<Figure size 432x288 with 1 Axes>"
      ]
     },
     "metadata": {
      "needs_background": "light"
     },
     "output_type": "display_data"
    }
   ],
   "source": [
    "sns.lineplot(top5_years.Year, top5_years['Runners Under 4'])\n",
    "plt.title('Runners under 4 minutes in the Mile by Year')\n",
    "plt.xlabel('Year')\n",
    "plt.ylabel('Runners Under 4')"
   ]
  },
  {
   "cell_type": "markdown",
   "id": "97e9e3c0",
   "metadata": {},
   "source": [
    "What decade did the most Americans run under 4 minutes?"
   ]
  },
  {
   "cell_type": "code",
   "execution_count": 23,
   "id": "431d2484",
   "metadata": {},
   "outputs": [
    {
     "data": {
      "text/plain": [
       "2010s    215\n",
       "2020s    115\n",
       "2000s     98\n",
       "1980s     69\n",
       "1970s     68\n",
       "1990s     63\n",
       "1960s     30\n",
       "1950s      1\n",
       "Name: Decade, dtype: int64"
      ]
     },
     "execution_count": 23,
     "metadata": {},
     "output_type": "execute_result"
    }
   ],
   "source": [
    "sub_4.Decade.value_counts()"
   ]
  },
  {
   "cell_type": "code",
   "execution_count": 24,
   "id": "5b8329be",
   "metadata": {},
   "outputs": [
    {
     "data": {
      "text/html": [
       "<div>\n",
       "<style scoped>\n",
       "    .dataframe tbody tr th:only-of-type {\n",
       "        vertical-align: middle;\n",
       "    }\n",
       "\n",
       "    .dataframe tbody tr th {\n",
       "        vertical-align: top;\n",
       "    }\n",
       "\n",
       "    .dataframe thead th {\n",
       "        text-align: right;\n",
       "    }\n",
       "</style>\n",
       "<table border=\"1\" class=\"dataframe\">\n",
       "  <thead>\n",
       "    <tr style=\"text-align: right;\">\n",
       "      <th></th>\n",
       "      <th>index</th>\n",
       "      <th>Decade</th>\n",
       "    </tr>\n",
       "  </thead>\n",
       "  <tbody>\n",
       "    <tr>\n",
       "      <th>0</th>\n",
       "      <td>2010s</td>\n",
       "      <td>215</td>\n",
       "    </tr>\n",
       "    <tr>\n",
       "      <th>1</th>\n",
       "      <td>2020s</td>\n",
       "      <td>115</td>\n",
       "    </tr>\n",
       "    <tr>\n",
       "      <th>2</th>\n",
       "      <td>2000s</td>\n",
       "      <td>98</td>\n",
       "    </tr>\n",
       "    <tr>\n",
       "      <th>3</th>\n",
       "      <td>1980s</td>\n",
       "      <td>69</td>\n",
       "    </tr>\n",
       "    <tr>\n",
       "      <th>4</th>\n",
       "      <td>1970s</td>\n",
       "      <td>68</td>\n",
       "    </tr>\n",
       "  </tbody>\n",
       "</table>\n",
       "</div>"
      ],
      "text/plain": [
       "   index  Decade\n",
       "0  2010s     215\n",
       "1  2020s     115\n",
       "2  2000s      98\n",
       "3  1980s      69\n",
       "4  1970s      68"
      ]
     },
     "execution_count": 24,
     "metadata": {},
     "output_type": "execute_result"
    }
   ],
   "source": [
    "Decade =  pd.DataFrame(sub_4.Decade.value_counts().reset_index())\n",
    "Decade.head()"
   ]
  },
  {
   "cell_type": "code",
   "execution_count": 25,
   "id": "e957cc2b",
   "metadata": {},
   "outputs": [
    {
     "data": {
      "text/html": [
       "<div>\n",
       "<style scoped>\n",
       "    .dataframe tbody tr th:only-of-type {\n",
       "        vertical-align: middle;\n",
       "    }\n",
       "\n",
       "    .dataframe tbody tr th {\n",
       "        vertical-align: top;\n",
       "    }\n",
       "\n",
       "    .dataframe thead th {\n",
       "        text-align: right;\n",
       "    }\n",
       "</style>\n",
       "<table border=\"1\" class=\"dataframe\">\n",
       "  <thead>\n",
       "    <tr style=\"text-align: right;\">\n",
       "      <th></th>\n",
       "      <th>Decade</th>\n",
       "      <th>Runners Under 4</th>\n",
       "    </tr>\n",
       "  </thead>\n",
       "  <tbody>\n",
       "    <tr>\n",
       "      <th>0</th>\n",
       "      <td>2010s</td>\n",
       "      <td>215</td>\n",
       "    </tr>\n",
       "    <tr>\n",
       "      <th>1</th>\n",
       "      <td>2020s</td>\n",
       "      <td>115</td>\n",
       "    </tr>\n",
       "    <tr>\n",
       "      <th>2</th>\n",
       "      <td>2000s</td>\n",
       "      <td>98</td>\n",
       "    </tr>\n",
       "    <tr>\n",
       "      <th>3</th>\n",
       "      <td>1980s</td>\n",
       "      <td>69</td>\n",
       "    </tr>\n",
       "    <tr>\n",
       "      <th>4</th>\n",
       "      <td>1970s</td>\n",
       "      <td>68</td>\n",
       "    </tr>\n",
       "  </tbody>\n",
       "</table>\n",
       "</div>"
      ],
      "text/plain": [
       "  Decade  Runners Under 4\n",
       "0  2010s              215\n",
       "1  2020s              115\n",
       "2  2000s               98\n",
       "3  1980s               69\n",
       "4  1970s               68"
      ]
     },
     "execution_count": 25,
     "metadata": {},
     "output_type": "execute_result"
    }
   ],
   "source": [
    "Decade.columns = ['Decade', 'Runners Under 4']\n",
    "Decade.head()"
   ]
  },
  {
   "cell_type": "code",
   "execution_count": 26,
   "id": "8ff1580c",
   "metadata": {},
   "outputs": [
    {
     "data": {
      "text/html": [
       "<div>\n",
       "<style scoped>\n",
       "    .dataframe tbody tr th:only-of-type {\n",
       "        vertical-align: middle;\n",
       "    }\n",
       "\n",
       "    .dataframe tbody tr th {\n",
       "        vertical-align: top;\n",
       "    }\n",
       "\n",
       "    .dataframe thead th {\n",
       "        text-align: right;\n",
       "    }\n",
       "</style>\n",
       "<table border=\"1\" class=\"dataframe\">\n",
       "  <thead>\n",
       "    <tr style=\"text-align: right;\">\n",
       "      <th></th>\n",
       "      <th>Decade</th>\n",
       "      <th>Runners Under 4</th>\n",
       "      <th>Percent</th>\n",
       "    </tr>\n",
       "  </thead>\n",
       "  <tbody>\n",
       "    <tr>\n",
       "      <th>0</th>\n",
       "      <td>2010s</td>\n",
       "      <td>215</td>\n",
       "      <td>32.6</td>\n",
       "    </tr>\n",
       "    <tr>\n",
       "      <th>1</th>\n",
       "      <td>2020s</td>\n",
       "      <td>115</td>\n",
       "      <td>17.5</td>\n",
       "    </tr>\n",
       "    <tr>\n",
       "      <th>2</th>\n",
       "      <td>2000s</td>\n",
       "      <td>98</td>\n",
       "      <td>14.9</td>\n",
       "    </tr>\n",
       "    <tr>\n",
       "      <th>3</th>\n",
       "      <td>1980s</td>\n",
       "      <td>69</td>\n",
       "      <td>10.5</td>\n",
       "    </tr>\n",
       "    <tr>\n",
       "      <th>4</th>\n",
       "      <td>1970s</td>\n",
       "      <td>68</td>\n",
       "      <td>10.3</td>\n",
       "    </tr>\n",
       "  </tbody>\n",
       "</table>\n",
       "</div>"
      ],
      "text/plain": [
       "  Decade  Runners Under 4  Percent\n",
       "0  2010s              215     32.6\n",
       "1  2020s              115     17.5\n",
       "2  2000s               98     14.9\n",
       "3  1980s               69     10.5\n",
       "4  1970s               68     10.3"
      ]
     },
     "execution_count": 26,
     "metadata": {},
     "output_type": "execute_result"
    }
   ],
   "source": [
    "Decade['Percent'] = round((Decade['Runners Under 4'] / 659) * 100,1)\n",
    "Decade.head()"
   ]
  },
  {
   "cell_type": "code",
   "execution_count": 27,
   "id": "087e8065",
   "metadata": {},
   "outputs": [
    {
     "name": "stderr",
     "output_type": "stream",
     "text": [
      "C:\\Users\\ljcoo\\anaconda3\\lib\\site-packages\\seaborn\\_decorators.py:36: FutureWarning: Pass the following variables as keyword args: x, y. From version 0.12, the only valid positional argument will be `data`, and passing other arguments without an explicit keyword will result in an error or misinterpretation.\n",
      "  warnings.warn(\n"
     ]
    },
    {
     "data": {
      "text/plain": [
       "Text(0, 0.5, 'Runners Under 4')"
      ]
     },
     "execution_count": 27,
     "metadata": {},
     "output_type": "execute_result"
    },
    {
     "data": {
      "image/png": "[encoded data removed]",
      "text/plain": [
       "<Figure size 432x288 with 1 Axes>"
      ]
     },
     "metadata": {
      "needs_background": "light"
     },
     "output_type": "display_data"
    }
   ],
   "source": [
    "sns.lineplot(Decade.Decade, Decade['Runners Under 4'])\n",
    "plt.title('Runners under 4 minutes in the Mile by Year')\n",
    "plt.xlabel('Year')\n",
    "plt.ylabel('Runners Under 4')"
   ]
  },
  {
   "cell_type": "markdown",
   "id": "0f598652",
   "metadata": {},
   "source": [
    "Where where most Sub-4 miles run by Americans?"
   ]
  },
  {
   "cell_type": "code",
   "execution_count": 28,
   "id": "57b58bff",
   "metadata": {},
   "outputs": [
    {
     "data": {
      "text/plain": [
       "Seattle         95\n",
       "Boston          76\n",
       "Eugene          48\n",
       "Fayetteville    30\n",
       "Nashville       26\n",
       "                ..\n",
       "Des Moines       1\n",
       "Princeton        1\n",
       "Lincoln          1\n",
       "Cambridge        1\n",
       "Gibsonton        1\n",
       "Name: Location, Length: 121, dtype: int64"
      ]
     },
     "execution_count": 28,
     "metadata": {},
     "output_type": "execute_result"
    }
   ],
   "source": [
    "sub_4.Location.value_counts()"
   ]
  },
  {
   "cell_type": "code",
   "execution_count": 29,
   "id": "f38d9342",
   "metadata": {},
   "outputs": [
    {
     "data": {
      "text/html": [
       "<div>\n",
       "<style scoped>\n",
       "    .dataframe tbody tr th:only-of-type {\n",
       "        vertical-align: middle;\n",
       "    }\n",
       "\n",
       "    .dataframe tbody tr th {\n",
       "        vertical-align: top;\n",
       "    }\n",
       "\n",
       "    .dataframe thead th {\n",
       "        text-align: right;\n",
       "    }\n",
       "</style>\n",
       "<table border=\"1\" class=\"dataframe\">\n",
       "  <thead>\n",
       "    <tr style=\"text-align: right;\">\n",
       "      <th></th>\n",
       "      <th>index</th>\n",
       "      <th>Location</th>\n",
       "    </tr>\n",
       "  </thead>\n",
       "  <tbody>\n",
       "    <tr>\n",
       "      <th>0</th>\n",
       "      <td>Seattle</td>\n",
       "      <td>95</td>\n",
       "    </tr>\n",
       "    <tr>\n",
       "      <th>1</th>\n",
       "      <td>Boston</td>\n",
       "      <td>76</td>\n",
       "    </tr>\n",
       "    <tr>\n",
       "      <th>2</th>\n",
       "      <td>Eugene</td>\n",
       "      <td>48</td>\n",
       "    </tr>\n",
       "    <tr>\n",
       "      <th>3</th>\n",
       "      <td>Fayetteville</td>\n",
       "      <td>30</td>\n",
       "    </tr>\n",
       "    <tr>\n",
       "      <th>4</th>\n",
       "      <td>Nashville</td>\n",
       "      <td>26</td>\n",
       "    </tr>\n",
       "  </tbody>\n",
       "</table>\n",
       "</div>"
      ],
      "text/plain": [
       "          index  Location\n",
       "0       Seattle        95\n",
       "1        Boston        76\n",
       "2        Eugene        48\n",
       "3  Fayetteville        30\n",
       "4     Nashville        26"
      ]
     },
     "execution_count": 29,
     "metadata": {},
     "output_type": "execute_result"
    }
   ],
   "source": [
    "Location = pd.DataFrame(sub_4.Location.value_counts().reset_index())\n",
    "Location.head()"
   ]
  },
  {
   "cell_type": "code",
   "execution_count": 30,
   "id": "75a04e03",
   "metadata": {},
   "outputs": [
    {
     "data": {
      "text/html": [
       "<div>\n",
       "<style scoped>\n",
       "    .dataframe tbody tr th:only-of-type {\n",
       "        vertical-align: middle;\n",
       "    }\n",
       "\n",
       "    .dataframe tbody tr th {\n",
       "        vertical-align: top;\n",
       "    }\n",
       "\n",
       "    .dataframe thead th {\n",
       "        text-align: right;\n",
       "    }\n",
       "</style>\n",
       "<table border=\"1\" class=\"dataframe\">\n",
       "  <thead>\n",
       "    <tr style=\"text-align: right;\">\n",
       "      <th></th>\n",
       "      <th>City</th>\n",
       "      <th>Sub-4 Miles</th>\n",
       "    </tr>\n",
       "  </thead>\n",
       "  <tbody>\n",
       "    <tr>\n",
       "      <th>0</th>\n",
       "      <td>Seattle</td>\n",
       "      <td>95</td>\n",
       "    </tr>\n",
       "    <tr>\n",
       "      <th>1</th>\n",
       "      <td>Boston</td>\n",
       "      <td>76</td>\n",
       "    </tr>\n",
       "    <tr>\n",
       "      <th>2</th>\n",
       "      <td>Eugene</td>\n",
       "      <td>48</td>\n",
       "    </tr>\n",
       "    <tr>\n",
       "      <th>3</th>\n",
       "      <td>Fayetteville</td>\n",
       "      <td>30</td>\n",
       "    </tr>\n",
       "    <tr>\n",
       "      <th>4</th>\n",
       "      <td>Nashville</td>\n",
       "      <td>26</td>\n",
       "    </tr>\n",
       "  </tbody>\n",
       "</table>\n",
       "</div>"
      ],
      "text/plain": [
       "           City  Sub-4 Miles\n",
       "0       Seattle           95\n",
       "1        Boston           76\n",
       "2        Eugene           48\n",
       "3  Fayetteville           30\n",
       "4     Nashville           26"
      ]
     },
     "execution_count": 30,
     "metadata": {},
     "output_type": "execute_result"
    }
   ],
   "source": [
    "Location.columns = ['City', 'Sub-4 Miles']\n",
    "Location.head()"
   ]
  },
  {
   "cell_type": "code",
   "execution_count": 31,
   "id": "6790adce",
   "metadata": {},
   "outputs": [
    {
     "data": {
      "text/html": [
       "<div>\n",
       "<style scoped>\n",
       "    .dataframe tbody tr th:only-of-type {\n",
       "        vertical-align: middle;\n",
       "    }\n",
       "\n",
       "    .dataframe tbody tr th {\n",
       "        vertical-align: top;\n",
       "    }\n",
       "\n",
       "    .dataframe thead th {\n",
       "        text-align: right;\n",
       "    }\n",
       "</style>\n",
       "<table border=\"1\" class=\"dataframe\">\n",
       "  <thead>\n",
       "    <tr style=\"text-align: right;\">\n",
       "      <th></th>\n",
       "      <th>City</th>\n",
       "      <th>Sub-4 Miles</th>\n",
       "      <th>Percent</th>\n",
       "    </tr>\n",
       "  </thead>\n",
       "  <tbody>\n",
       "    <tr>\n",
       "      <th>0</th>\n",
       "      <td>Seattle</td>\n",
       "      <td>95</td>\n",
       "      <td>14.4</td>\n",
       "    </tr>\n",
       "    <tr>\n",
       "      <th>1</th>\n",
       "      <td>Boston</td>\n",
       "      <td>76</td>\n",
       "      <td>11.5</td>\n",
       "    </tr>\n",
       "    <tr>\n",
       "      <th>2</th>\n",
       "      <td>Eugene</td>\n",
       "      <td>48</td>\n",
       "      <td>7.3</td>\n",
       "    </tr>\n",
       "    <tr>\n",
       "      <th>3</th>\n",
       "      <td>Fayetteville</td>\n",
       "      <td>30</td>\n",
       "      <td>4.6</td>\n",
       "    </tr>\n",
       "    <tr>\n",
       "      <th>4</th>\n",
       "      <td>Nashville</td>\n",
       "      <td>26</td>\n",
       "      <td>3.9</td>\n",
       "    </tr>\n",
       "  </tbody>\n",
       "</table>\n",
       "</div>"
      ],
      "text/plain": [
       "           City  Sub-4 Miles  Percent\n",
       "0       Seattle           95     14.4\n",
       "1        Boston           76     11.5\n",
       "2        Eugene           48      7.3\n",
       "3  Fayetteville           30      4.6\n",
       "4     Nashville           26      3.9"
      ]
     },
     "execution_count": 31,
     "metadata": {},
     "output_type": "execute_result"
    }
   ],
   "source": [
    "Location['Percent'] = round((Location['Sub-4 Miles'] / 659) * 100,1)\n",
    "Location.head()"
   ]
  },
  {
   "cell_type": "code",
   "execution_count": 32,
   "id": "348510d2",
   "metadata": {},
   "outputs": [
    {
     "data": {
      "image/png": "[encoded data removed]",
      "text/plain": [
       "<Figure size 432x288 with 1 Axes>"
      ]
     },
     "metadata": {
      "needs_background": "light"
     },
     "output_type": "display_data"
    }
   ],
   "source": [
    "plt.bar(Location.City, Location['Sub-4 Miles'])\n",
    "plt.title('Cities with American Sub-4 Miles')\n",
    "plt.xlabel('City')\n",
    "plt.ylabel('Number of Sub-4 Miles')\n",
    "plt.show()"
   ]
  },
  {
   "cell_type": "code",
   "execution_count": 33,
   "id": "55f07572",
   "metadata": {},
   "outputs": [
    {
     "data": {
      "text/html": [
       "<div>\n",
       "<style scoped>\n",
       "    .dataframe tbody tr th:only-of-type {\n",
       "        vertical-align: middle;\n",
       "    }\n",
       "\n",
       "    .dataframe tbody tr th {\n",
       "        vertical-align: top;\n",
       "    }\n",
       "\n",
       "    .dataframe thead th {\n",
       "        text-align: right;\n",
       "    }\n",
       "</style>\n",
       "<table border=\"1\" class=\"dataframe\">\n",
       "  <thead>\n",
       "    <tr style=\"text-align: right;\">\n",
       "      <th></th>\n",
       "      <th>City</th>\n",
       "      <th>Sub-4 Miles</th>\n",
       "      <th>Percent</th>\n",
       "    </tr>\n",
       "  </thead>\n",
       "  <tbody>\n",
       "    <tr>\n",
       "      <th>0</th>\n",
       "      <td>Seattle</td>\n",
       "      <td>95</td>\n",
       "      <td>14.4</td>\n",
       "    </tr>\n",
       "    <tr>\n",
       "      <th>1</th>\n",
       "      <td>Boston</td>\n",
       "      <td>76</td>\n",
       "      <td>11.5</td>\n",
       "    </tr>\n",
       "    <tr>\n",
       "      <th>2</th>\n",
       "      <td>Eugene</td>\n",
       "      <td>48</td>\n",
       "      <td>7.3</td>\n",
       "    </tr>\n",
       "    <tr>\n",
       "      <th>3</th>\n",
       "      <td>Fayetteville</td>\n",
       "      <td>30</td>\n",
       "      <td>4.6</td>\n",
       "    </tr>\n",
       "    <tr>\n",
       "      <th>4</th>\n",
       "      <td>Nashville</td>\n",
       "      <td>26</td>\n",
       "      <td>3.9</td>\n",
       "    </tr>\n",
       "  </tbody>\n",
       "</table>\n",
       "</div>"
      ],
      "text/plain": [
       "           City  Sub-4 Miles  Percent\n",
       "0       Seattle           95     14.4\n",
       "1        Boston           76     11.5\n",
       "2        Eugene           48      7.3\n",
       "3  Fayetteville           30      4.6\n",
       "4     Nashville           26      3.9"
      ]
     },
     "execution_count": 33,
     "metadata": {},
     "output_type": "execute_result"
    }
   ],
   "source": [
    "top10_cities = Location.nlargest(10,'Sub-4 Miles')\n",
    "top10_cities.head()"
   ]
  },
  {
   "cell_type": "code",
   "execution_count": 34,
   "id": "a56382ce",
   "metadata": {},
   "outputs": [
    {
     "data": {
      "image/png": "[encoded data removed]",
      "text/plain": [
       "<Figure size 432x288 with 1 Axes>"
      ]
     },
     "metadata": {
      "needs_background": "light"
     },
     "output_type": "display_data"
    }
   ],
   "source": [
    "plt.bar(top10_cities.City,top10_cities['Sub-4 Miles'], color='black')\n",
    "plt.title('Top 10 Cities With the Most Sub-4 Miles Run By Americans')\n",
    "plt.xlabel('City')\n",
    "plt.ylabel('Number of Sub-4 Miles Run')\n",
    "plt.xticks(rotation = 90)\n",
    "plt.show()"
   ]
  },
  {
   "cell_type": "markdown",
   "id": "420435fb",
   "metadata": {},
   "source": [
    "What team team and/or school produced the Sub-4 miles?"
   ]
  },
  {
   "cell_type": "code",
   "execution_count": 35,
   "id": "4e73bd64",
   "metadata": {},
   "outputs": [
    {
     "data": {
      "text/plain": [
       "unattached           50\n",
       "Oregon               43\n",
       "Nike                 18\n",
       "Stanford             18\n",
       "Athletics West       15\n",
       "                     ..\n",
       " Arkansas             1\n",
       "Indiana TC            1\n",
       "Club Connecticut      1\n",
       "New York Pioneers     1\n",
       "South Dakota HS       1\n",
       "Name: Affiliation, Length: 222, dtype: int64"
      ]
     },
     "execution_count": 35,
     "metadata": {},
     "output_type": "execute_result"
    }
   ],
   "source": [
    "sub_4.Affiliation.value_counts()"
   ]
  },
  {
   "cell_type": "code",
   "execution_count": 36,
   "id": "d8f5e998",
   "metadata": {},
   "outputs": [
    {
     "data": {
      "text/html": [
       "<div>\n",
       "<style scoped>\n",
       "    .dataframe tbody tr th:only-of-type {\n",
       "        vertical-align: middle;\n",
       "    }\n",
       "\n",
       "    .dataframe tbody tr th {\n",
       "        vertical-align: top;\n",
       "    }\n",
       "\n",
       "    .dataframe thead th {\n",
       "        text-align: right;\n",
       "    }\n",
       "</style>\n",
       "<table border=\"1\" class=\"dataframe\">\n",
       "  <thead>\n",
       "    <tr style=\"text-align: right;\">\n",
       "      <th></th>\n",
       "      <th>index</th>\n",
       "      <th>Affiliation</th>\n",
       "    </tr>\n",
       "  </thead>\n",
       "  <tbody>\n",
       "    <tr>\n",
       "      <th>0</th>\n",
       "      <td>unattached</td>\n",
       "      <td>50</td>\n",
       "    </tr>\n",
       "    <tr>\n",
       "      <th>1</th>\n",
       "      <td>Oregon</td>\n",
       "      <td>43</td>\n",
       "    </tr>\n",
       "    <tr>\n",
       "      <th>2</th>\n",
       "      <td>Nike</td>\n",
       "      <td>18</td>\n",
       "    </tr>\n",
       "    <tr>\n",
       "      <th>3</th>\n",
       "      <td>Stanford</td>\n",
       "      <td>18</td>\n",
       "    </tr>\n",
       "    <tr>\n",
       "      <th>4</th>\n",
       "      <td>Athletics West</td>\n",
       "      <td>15</td>\n",
       "    </tr>\n",
       "  </tbody>\n",
       "</table>\n",
       "</div>"
      ],
      "text/plain": [
       "            index  Affiliation\n",
       "0      unattached           50\n",
       "1          Oregon           43\n",
       "2            Nike           18\n",
       "3        Stanford           18\n",
       "4  Athletics West           15"
      ]
     },
     "execution_count": 36,
     "metadata": {},
     "output_type": "execute_result"
    }
   ],
   "source": [
    "Team = pd.DataFrame(sub_4.Affiliation.value_counts().reset_index())\n",
    "Team.head()"
   ]
  },
  {
   "cell_type": "code",
   "execution_count": 37,
   "id": "cebee47c",
   "metadata": {},
   "outputs": [
    {
     "data": {
      "text/html": [
       "<div>\n",
       "<style scoped>\n",
       "    .dataframe tbody tr th:only-of-type {\n",
       "        vertical-align: middle;\n",
       "    }\n",
       "\n",
       "    .dataframe tbody tr th {\n",
       "        vertical-align: top;\n",
       "    }\n",
       "\n",
       "    .dataframe thead th {\n",
       "        text-align: right;\n",
       "    }\n",
       "</style>\n",
       "<table border=\"1\" class=\"dataframe\">\n",
       "  <thead>\n",
       "    <tr style=\"text-align: right;\">\n",
       "      <th></th>\n",
       "      <th>Team</th>\n",
       "      <th>Runners</th>\n",
       "    </tr>\n",
       "  </thead>\n",
       "  <tbody>\n",
       "    <tr>\n",
       "      <th>0</th>\n",
       "      <td>unattached</td>\n",
       "      <td>50</td>\n",
       "    </tr>\n",
       "    <tr>\n",
       "      <th>1</th>\n",
       "      <td>Oregon</td>\n",
       "      <td>43</td>\n",
       "    </tr>\n",
       "    <tr>\n",
       "      <th>2</th>\n",
       "      <td>Nike</td>\n",
       "      <td>18</td>\n",
       "    </tr>\n",
       "    <tr>\n",
       "      <th>3</th>\n",
       "      <td>Stanford</td>\n",
       "      <td>18</td>\n",
       "    </tr>\n",
       "    <tr>\n",
       "      <th>4</th>\n",
       "      <td>Athletics West</td>\n",
       "      <td>15</td>\n",
       "    </tr>\n",
       "  </tbody>\n",
       "</table>\n",
       "</div>"
      ],
      "text/plain": [
       "             Team  Runners\n",
       "0      unattached       50\n",
       "1          Oregon       43\n",
       "2            Nike       18\n",
       "3        Stanford       18\n",
       "4  Athletics West       15"
      ]
     },
     "execution_count": 37,
     "metadata": {},
     "output_type": "execute_result"
    }
   ],
   "source": [
    "Team.columns = ['Team', 'Runners']\n",
    "Team.head()"
   ]
  },
  {
   "cell_type": "code",
   "execution_count": 38,
   "id": "e90e0ff9",
   "metadata": {},
   "outputs": [
    {
     "data": {
      "text/html": [
       "<div>\n",
       "<style scoped>\n",
       "    .dataframe tbody tr th:only-of-type {\n",
       "        vertical-align: middle;\n",
       "    }\n",
       "\n",
       "    .dataframe tbody tr th {\n",
       "        vertical-align: top;\n",
       "    }\n",
       "\n",
       "    .dataframe thead th {\n",
       "        text-align: right;\n",
       "    }\n",
       "</style>\n",
       "<table border=\"1\" class=\"dataframe\">\n",
       "  <thead>\n",
       "    <tr style=\"text-align: right;\">\n",
       "      <th></th>\n",
       "      <th>Team</th>\n",
       "      <th>Runners</th>\n",
       "      <th>Percent</th>\n",
       "    </tr>\n",
       "  </thead>\n",
       "  <tbody>\n",
       "    <tr>\n",
       "      <th>0</th>\n",
       "      <td>unattached</td>\n",
       "      <td>50</td>\n",
       "      <td>7.6</td>\n",
       "    </tr>\n",
       "    <tr>\n",
       "      <th>1</th>\n",
       "      <td>Oregon</td>\n",
       "      <td>43</td>\n",
       "      <td>6.5</td>\n",
       "    </tr>\n",
       "    <tr>\n",
       "      <th>2</th>\n",
       "      <td>Nike</td>\n",
       "      <td>18</td>\n",
       "      <td>2.7</td>\n",
       "    </tr>\n",
       "    <tr>\n",
       "      <th>3</th>\n",
       "      <td>Stanford</td>\n",
       "      <td>18</td>\n",
       "      <td>2.7</td>\n",
       "    </tr>\n",
       "    <tr>\n",
       "      <th>4</th>\n",
       "      <td>Athletics West</td>\n",
       "      <td>15</td>\n",
       "      <td>2.3</td>\n",
       "    </tr>\n",
       "  </tbody>\n",
       "</table>\n",
       "</div>"
      ],
      "text/plain": [
       "             Team  Runners  Percent\n",
       "0      unattached       50      7.6\n",
       "1          Oregon       43      6.5\n",
       "2            Nike       18      2.7\n",
       "3        Stanford       18      2.7\n",
       "4  Athletics West       15      2.3"
      ]
     },
     "execution_count": 38,
     "metadata": {},
     "output_type": "execute_result"
    }
   ],
   "source": [
    "Team['Percent'] = round((Team['Runners'] / 659) * 100,1)\n",
    "Team.head()"
   ]
  },
  {
   "cell_type": "code",
   "execution_count": 39,
   "id": "ad48165e",
   "metadata": {},
   "outputs": [
    {
     "data": {
      "text/html": [
       "<div>\n",
       "<style scoped>\n",
       "    .dataframe tbody tr th:only-of-type {\n",
       "        vertical-align: middle;\n",
       "    }\n",
       "\n",
       "    .dataframe tbody tr th {\n",
       "        vertical-align: top;\n",
       "    }\n",
       "\n",
       "    .dataframe thead th {\n",
       "        text-align: right;\n",
       "    }\n",
       "</style>\n",
       "<table border=\"1\" class=\"dataframe\">\n",
       "  <thead>\n",
       "    <tr style=\"text-align: right;\">\n",
       "      <th></th>\n",
       "      <th>Team</th>\n",
       "      <th>Runners</th>\n",
       "      <th>Percent</th>\n",
       "    </tr>\n",
       "  </thead>\n",
       "  <tbody>\n",
       "    <tr>\n",
       "      <th>0</th>\n",
       "      <td>unattached</td>\n",
       "      <td>50</td>\n",
       "      <td>7.6</td>\n",
       "    </tr>\n",
       "    <tr>\n",
       "      <th>1</th>\n",
       "      <td>Oregon</td>\n",
       "      <td>43</td>\n",
       "      <td>6.5</td>\n",
       "    </tr>\n",
       "    <tr>\n",
       "      <th>2</th>\n",
       "      <td>Nike</td>\n",
       "      <td>18</td>\n",
       "      <td>2.7</td>\n",
       "    </tr>\n",
       "    <tr>\n",
       "      <th>3</th>\n",
       "      <td>Stanford</td>\n",
       "      <td>18</td>\n",
       "      <td>2.7</td>\n",
       "    </tr>\n",
       "    <tr>\n",
       "      <th>4</th>\n",
       "      <td>Athletics West</td>\n",
       "      <td>15</td>\n",
       "      <td>2.3</td>\n",
       "    </tr>\n",
       "  </tbody>\n",
       "</table>\n",
       "</div>"
      ],
      "text/plain": [
       "             Team  Runners  Percent\n",
       "0      unattached       50      7.6\n",
       "1          Oregon       43      6.5\n",
       "2            Nike       18      2.7\n",
       "3        Stanford       18      2.7\n",
       "4  Athletics West       15      2.3"
      ]
     },
     "execution_count": 39,
     "metadata": {},
     "output_type": "execute_result"
    }
   ],
   "source": [
    "top10_teams = Team.nlargest(10,'Runners')\n",
    "top10_teams.head()"
   ]
  },
  {
   "cell_type": "code",
   "execution_count": 40,
   "id": "1ac6585f",
   "metadata": {},
   "outputs": [
    {
     "data": {
      "image/png": "[encoded data removed]",
      "text/plain": [
       "<Figure size 432x288 with 1 Axes>"
      ]
     },
     "metadata": {
      "needs_background": "light"
     },
     "output_type": "display_data"
    }
   ],
   "source": [
    "plt.bar(top10_teams.Team,top10_teams.Runners, color='green')\n",
    "plt.title('Top 10 Teams With the Most Sub-4 Runners')\n",
    "plt.xlabel('Team')\n",
    "plt.ylabel('Number of Sub-4 Runners')\n",
    "plt.xticks(rotation = 90)\n",
    "plt.show()"
   ]
  },
  {
   "cell_type": "code",
   "execution_count": null,
   "id": "aadd7eb9",
   "metadata": {},
   "outputs": [],
   "source": []
  }
 ],
 "metadata": {
  "kernelspec": {
   "display_name": "Python 3 (ipykernel)",
   "language": "python",
   "name": "python3"
  },
  "language_info": {
   "codemirror_mode": {
    "name": "ipython",
    "version": 3
   },
   "file_extension": ".py",
   "mimetype": "text/x-python",
   "name": "python",
   "nbconvert_exporter": "python",
   "pygments_lexer": "ipython3",
   "version": "3.9.7"
  }
 },
 "nbformat": 4,
 "nbformat_minor": 5
}
